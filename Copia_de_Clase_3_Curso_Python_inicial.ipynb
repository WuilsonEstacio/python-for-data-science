{
  "nbformat": 4,
  "nbformat_minor": 0,
  "metadata": {
    "colab": {
      "name": "Copia de Clase_3_Curso_Python_inicial.ipynb",
      "provenance": [],
      "collapsed_sections": [],
      "include_colab_link": true
    },
    "kernelspec": {
      "name": "python3",
      "display_name": "Python 3"
    }
  },
  "cells": [
    {
      "cell_type": "markdown",
      "metadata": {
        "id": "view-in-github",
        "colab_type": "text"
      },
      "source": [
        "<a href=\"https://colab.research.google.com/github/WuilsonEstacio/python-for-data-science/blob/main/Copia_de_Clase_3_Curso_Python_inicial.ipynb\" target=\"_parent\"><img src=\"https://colab.research.google.com/assets/colab-badge.svg\" alt=\"Open In Colab\"/></a>"
      ]
    },
    {
      "cell_type": "markdown",
      "metadata": {
        "id": "Z9i5-cpq2Cxg"
      },
      "source": [
        "# Librerías\n",
        "\n",
        "Una librería es un conjunto de funciones implementadas por otro programador que nos facilita realizar tareas principalmente porque no debemos reescribir el codigo. En esta clase será vital el uso de librerías para poder analizar archivos con información.\n",
        "\n",
        "<img src=\"http://www.goalexandria.com/wp-content/uploads/2016/02/alt-lib.png\" width=200px>\n",
        "\n",
        "¿Como usamos una libreria? Primero debemos importarla.\n",
        "\n",
        "> **import** (nombre de la libreria) **as** (nombre abreviado)\n",
        "\n",
        "Como estas pueden tener otras librerias adentro\n",
        "\n",
        "> **from** (nombre de la libreria) **import** (nombre de la otra) **as** (nombre abreviado)\n",
        "\n",
        "Para llamar luego a una función de la libreria usamos la siguiente sintaxis:\n",
        "\n",
        "> (Nombre de la libreria)**.**función(parametros)\n",
        "\n",
        "Nota: Es importante saber que el **as** es opcional, y que tambien pueden importar solo funciones que necesiten. También es una buena práctica que todas las librerías se importen al principio del programa, osea que el código se encuentre arriba de todo."
      ]
    },
    {
      "cell_type": "code",
      "metadata": {
        "id": "iOSDofLD22T4"
      },
      "source": [
        "import math #Importamos la libreria math\n",
        "\n",
        "print('El seno de 0 es ',math.sin(0),'y el coseno',math.cos(0))"
      ],
      "execution_count": null,
      "outputs": []
    },
    {
      "cell_type": "code",
      "metadata": {
        "id": "NPtBY8VO24B4"
      },
      "source": [
        "from math import sin,cos\n",
        "\n",
        "print('El seno de 0 es ',sin(0),'y el coseno',cos(0))"
      ],
      "execution_count": null,
      "outputs": []
    },
    {
      "cell_type": "code",
      "metadata": {
        "id": "PGlMjexW25cw"
      },
      "source": [
        "import math as m\n",
        "\n",
        "print('El seno de 0 es ',m.sin(0),'y el coseno',m.cos(0))"
      ],
      "execution_count": null,
      "outputs": []
    },
    {
      "cell_type": "code",
      "metadata": {
        "id": "pvT2S9nJ26rY",
        "colab": {
          "base_uri": "https://localhost:8080/",
          "height": 34
        },
        "outputId": "352ae2bf-99f6-4886-bd19-de0112ca4cea"
      },
      "source": [
        "from os import path as pth\n",
        "\n",
        "print(pth.join('Carpeta','Archivo.rar'))"
      ],
      "execution_count": null,
      "outputs": [
        {
          "output_type": "stream",
          "text": [
            "Carpeta/Archivo.rar\n"
          ],
          "name": "stdout"
        }
      ]
    },
    {
      "cell_type": "markdown",
      "metadata": {
        "id": "ye6V-CbH4Cu5"
      },
      "source": [
        "Algunas librerías muy conocidas e utilizadas son \n",
        "\n",
        "\n",
        "*   [numpy](https://numpy.org/) (Cálculo matricial)\n",
        "*   [pandas](https://pandas.pydata.org/) (Lectura de bases de datos)\n",
        "*   [maplotlib](https://matplotlib.org/) (Gráficos)\n",
        "*   [tkinter](https://docs.python.org/3/library/tk.html) (Interfaces gráficas)\n",
        "*   [scipy](https://www.scipy.org/) (Ciencia de datos)\n",
        "\n",
        "En esta clase se utilizará  **Pandas** para analizar archivos de información estructurada como tales como **excel**"
      ]
    },
    {
      "cell_type": "code",
      "metadata": {
        "id": "zpZURrzGJGBE",
        "colab": {
          "base_uri": "https://localhost:8080/",
          "height": 34
        },
        "outputId": "8276304c-055b-430d-8a9b-f6b77bac80c9"
      },
      "source": [
        "! pip install numpy"
      ],
      "execution_count": null,
      "outputs": [
        {
          "output_type": "stream",
          "text": [
            "Requirement already satisfied: numpy in /usr/local/lib/python3.6/dist-packages (1.17.3)\n"
          ],
          "name": "stdout"
        }
      ]
    },
    {
      "cell_type": "markdown",
      "metadata": {
        "id": "AqctVwVr3BGh"
      },
      "source": [
        "# Lectura de archivos .xlsx .csv\n",
        "\n",
        "*   ***Información estructurada***\n",
        "\n",
        "\n",
        "\n",
        "[Pandas](https://pandas.pydata.org) es una librería muy popular en los ultimos tiempos que nos permite, entre otras cosas, sistematizar con unas pocas funciones la conversión de un archivo de información en los tipos de datos que python maneja. En esta clase la utilizaremos para poder leer archivos con información en columnas, tales como los formatos **excel** o **csv**.\n",
        "\n",
        "<img src=\"https://pandas.pydata.org/_static/pandas_logo.png\" width=600px>\n",
        "\n",
        "A continuación mostraremos un ejemplo donde se accede a la información de un archivo utilizando *Pandas*. El archivo que leeremos se llama **Datos.xlsx**; lo cargamos a colabollatory con el siguiente comando\n",
        "\n",
        "\n"
      ]
    },
    {
      "cell_type": "code",
      "metadata": {
        "id": "pJqU8NbcdnFh",
        "colab": {
          "base_uri": "https://localhost:8080/",
          "height": 202
        },
        "outputId": "6f01cbfe-41e7-400b-8833-2097d608aa6a"
      },
      "source": [
        " ! wget \"https://raw.githubusercontent.com/IEEESBITBA/Curso-Python/master/Clase_3_datos/Datos.xlsx\""
      ],
      "execution_count": null,
      "outputs": [
        {
          "output_type": "stream",
          "text": [
            "--2019-10-25 20:46:54--  https://raw.githubusercontent.com/IEEESBITBA/Curso-Python/master/Clase_3_datos/Datos.xlsx\n",
            "Resolving raw.githubusercontent.com (raw.githubusercontent.com)... 151.101.0.133, 151.101.64.133, 151.101.128.133, ...\n",
            "Connecting to raw.githubusercontent.com (raw.githubusercontent.com)|151.101.0.133|:443... connected.\n",
            "HTTP request sent, awaiting response... 200 OK\n",
            "Length: 4054 (4.0K) [application/octet-stream]\n",
            "Saving to: ‘Datos.xlsx’\n",
            "\n",
            "\rDatos.xlsx            0%[                    ]       0  --.-KB/s               \rDatos.xlsx          100%[===================>]   3.96K  --.-KB/s    in 0s      \n",
            "\n",
            "2019-10-25 20:46:54 (73.7 MB/s) - ‘Datos.xlsx’ saved [4054/4054]\n",
            "\n"
          ],
          "name": "stdout"
        }
      ]
    },
    {
      "cell_type": "markdown",
      "metadata": {
        "id": "8yyXIgzOdmbh"
      },
      "source": [
        "La función que utilizaremos para cargar los datos del archivo se llama [read_excel](https://pandas.pydata.org/pandas-docs/stable/reference/api/pandas.read_excel.html)"
      ]
    },
    {
      "cell_type": "code",
      "metadata": {
        "id": "rNtLWy_c3ibR"
      },
      "source": [
        "import pandas as pd\n",
        "\n",
        "archivo = pd.read_excel(\"Datos.xlsx\") \n",
        "# la variable archivo es un tipo de dato especial de pandas\n",
        "print(archivo)\n",
        "\n",
        "data = archivo.to_dict(\"list\") \n",
        "# \"list\" significa que vamos a almacenar a cada columna como una lista con su contenido\n",
        "\n",
        "print(data)"
      ],
      "execution_count": null,
      "outputs": []
    },
    {
      "cell_type": "markdown",
      "metadata": {
        "id": "wPpcHbNL3kig"
      },
      "source": [
        "Cambiando el parámetro  \"list\" por \"records\" de la función [to_dict](https://pandas.pydata.org/pandas-docs/stable/reference/api/pandas.DataFrame.to_dict.html) podemos lograr obtener la información separada por fila"
      ]
    },
    {
      "cell_type": "code",
      "metadata": {
        "id": "HX3WZ8AJ3meh"
      },
      "source": [
        "data = archivo.to_dict(\"records\") \n",
        "# \"records\" significa que vamos a obtener el contenido separado por cada fila\n",
        "\n",
        "print(data)"
      ],
      "execution_count": null,
      "outputs": []
    },
    {
      "cell_type": "markdown",
      "metadata": {
        "id": "1y_W3XCo3oOg"
      },
      "source": [
        "También a veces es necesario \"indexar\" el archivo por alguna columna en particular, en estos casos \n",
        "podemos agregar un parámetro index_col con el nombre de la columna con la que queremos los datos indexados.\n",
        "Es importante observar que la columna seleccionada, en otras palabras la columna que contendrá las claves no puede tener valores repetidos."
      ]
    },
    {
      "cell_type": "code",
      "metadata": {
        "id": "_z9zIZpW3pnx"
      },
      "source": [
        "archivo = pd.read_excel(\"Datos.xlsx\", index_fil =\"Legajo\") \n",
        "# Indicamos que la columna de indexación será apellido. Se ingresa como una lista\n",
        "# porque es posible a veces indexar por dos columnas distintas\n",
        "print(archivo)\n",
        "data = archivo.to_dict(\"index\") \n",
        "# \"index\" significa que vamos a obtener el contenido como diccionarios \n",
        "# donde la clave es algun campo de cada fila, en este caso la clave de los \n",
        "# diccionarios será la clave \"Apellido\"\n",
        "\n",
        "# convertimos el tipo de dato de pandas a un dict de python\n",
        "\n",
        "print(data)"
      ],
      "execution_count": null,
      "outputs": []
    },
    {
      "cell_type": "markdown",
      "metadata": {
        "id": "4TozN7UY31fw"
      },
      "source": [
        "Tambien es posible escribir archivos con pandas utilizando el comando [to_excel](https://pandas.pydata.org/pandas-docs/stable/reference/api/pandas.DataFrame.to_excel.html), a continuación mostraremos un ejemplo\n",
        "\n"
      ]
    },
    {
      "cell_type": "code",
      "metadata": {
        "id": "ttd4RpTy39FL"
      },
      "source": [
        "data = {\n",
        "    \"personas\" : [\"Analía Ferreyra\" , \"Martin Hugo\", \"Fernando Lorenzo\"],\n",
        "    \"edad\" : [25, 35, 87] \n",
        "} # contenido como listas con el contenido de cada columna\n",
        "\n",
        "claves = data.keys()\n",
        "\n",
        "print(claves)\n",
        "\n",
        "dataFrame = pd.DataFrame(data, None, claves) \n",
        "#generamos un dataframe (tipo de dato de pandas) con la informacion\n",
        "\n",
        "dataFrame.to_excel(\"personas.xlsx\") \n",
        "# exportamos la información a un archivo llamado \"personas.xlsx\""
      ],
      "execution_count": null,
      "outputs": []
    },
    {
      "cell_type": "markdown",
      "metadata": {
        "id": "Ve8-YdUyagnD"
      },
      "source": [
        "#### Mini task 2\n",
        "Leer el archivo **Tabla1.xlsx** y determinar campeon y perdedor."
      ]
    },
    {
      "cell_type": "code",
      "metadata": {
        "id": "zODi6sJ2zJPV"
      },
      "source": [
        " ! wget \"https://raw.githubusercontent.com/IEEESBITBA/Curso-Python/master/Clase_3_datos/Tabla1.xlsx\""
      ],
      "execution_count": null,
      "outputs": []
    },
    {
      "cell_type": "code",
      "metadata": {
        "id": "W93Bb8k6fS7C"
      },
      "source": [
        "### Atención: es muy largo!!w\n",
        "\n",
        "archivo = pd.read_excel(\"Tabla1.xlsx\", index_col =\"Equipo\") \n",
        "# Indicamos que la columna de indexación será apellido. Se ingresa como una lista\n",
        "# porque es posible a veces indexar por dos columnas distintas\n",
        "print(archivo)\n",
        "data = archivo.to_dict(\"index\") \n",
        "# \"index\" significa que vamos a obtener el contenido como diccionarios \n",
        "# donde la clave es algun campo de cada fila, en este caso la clave de los \n",
        "# diccionarios será la clave \"Apellido\"\n",
        "print(data)\n",
        "# convertimos el tipo de dato de pandas a un dict de python\n",
        "maxpunt = 0\n",
        "minpunt = 1000000\n",
        "maxname = ''\n",
        "minname = ''\n",
        "for key in data.keys():\n",
        "    punt = data[key]['Puntos']\n",
        "    if punt > maxpunt:\n",
        "        maxpunt=punt\n",
        "        maxname = key\n",
        "    if punt < minpunt:\n",
        "        minpunt=punt\n",
        "        minname = key\n",
        "print(maxname, 'resulto compeon con', maxpunt, 'puntos.' )\n",
        "print(minname, 'resulto descendido con', minpunt, 'puntos.' )\n"
      ],
      "execution_count": null,
      "outputs": []
    },
    {
      "cell_type": "markdown",
      "metadata": {
        "id": "f-IyPLyv3eKi"
      },
      "source": [
        "###Uso de dataframes \n",
        "La librería pandas posee su propio tipo de datos para el manejo de información, a continuación veremos las operaciones más utilizadas."
      ]
    },
    {
      "cell_type": "code",
      "metadata": {
        "id": "yYH9Zaq13m4T"
      },
      "source": [
        "import pandas as pd\n",
        "\n",
        "datos = pd.read_excel(\"Datos.xlsx\") \n",
        "# la variable datos es un tipo de dato especial de pandas\n",
        "print(datos)"
      ],
      "execution_count": null,
      "outputs": []
    },
    {
      "cell_type": "markdown",
      "metadata": {
        "id": "Hv008YkD4xbm"
      },
      "source": [
        "Usualmente necesitamos acceder a los datos dispuestos en las columnas esto se hace de la siguiente forma:"
      ]
    },
    {
      "cell_type": "code",
      "metadata": {
        "id": "ywvdqmgz4whY",
        "colab": {
          "base_uri": "https://localhost:8080/",
          "height": 139
        },
        "outputId": "4fdbf59b-5272-4db5-aadb-daf4d3a1dea3"
      },
      "source": [
        "columna = 'Quimica'\n",
        "print(datos[columna])"
      ],
      "execution_count": null,
      "outputs": [
        {
          "output_type": "stream",
          "text": [
            "0    10\n",
            "1     4\n",
            "2     2\n",
            "3     9\n",
            "4     8\n",
            "5     1\n",
            "Name: Quimica, dtype: int64\n"
          ],
          "name": "stdout"
        }
      ]
    },
    {
      "cell_type": "markdown",
      "metadata": {
        "id": "D4EY947g5RSL"
      },
      "source": [
        "#### Mini task 3 \n",
        "Hacer promedio de alumnos en química\n",
        "\n",
        "Tip: Podemos usar la función **sum**($iterable$) para obtener la suma de todos los campos. ¡La función **len** sigue siendo vá**lida** también!"
      ]
    },
    {
      "cell_type": "code",
      "metadata": {
        "id": "FBM_4bhb5Txz",
        "colab": {
          "base_uri": "https://localhost:8080/",
          "height": 35
        },
        "outputId": "d8fcf466-3891-4662-99dd-40eee108aefe"
      },
      "source": [
        "print(sum(datos['Quimica'])/len(datos))"
      ],
      "execution_count": null,
      "outputs": [
        {
          "output_type": "stream",
          "text": [
            "5.666666666666667\n"
          ],
          "name": "stdout"
        }
      ]
    },
    {
      "cell_type": "markdown",
      "metadata": {
        "id": "pt6ECixK5Un9"
      },
      "source": [
        "Otra tarea solicitada es acceder una fila en particular, en el ejemplo sería acceder a un alumno en particular lo cual se hace de la siguiente forma:"
      ]
    },
    {
      "cell_type": "code",
      "metadata": {
        "id": "CR0RNXUm5kv8",
        "colab": {
          "base_uri": "https://localhost:8080/",
          "height": 139
        },
        "outputId": "02ed7404-dc8b-43b6-9237-b8edcbe1e0f7"
      },
      "source": [
        "indice = 0\n",
        "alumno = datos.loc[indice] \n",
        "print(alumno)"
      ],
      "execution_count": null,
      "outputs": [
        {
          "output_type": "stream",
          "text": [
            "Legajo           34567\n",
            "Nombre            Juan\n",
            "Apellido      Martinez\n",
            "Quimica             10\n",
            "Matematica           7\n",
            "Fisica               9\n",
            "Name: 0, dtype: object\n"
          ],
          "name": "stdout"
        }
      ]
    },
    {
      "cell_type": "markdown",
      "metadata": {
        "id": "ezDd8V7f59vn"
      },
      "source": [
        "Veamos ahora cómo se puede acceder a un dato en particular del alumno:"
      ]
    },
    {
      "cell_type": "code",
      "metadata": {
        "id": "nthq4hDd5880",
        "colab": {
          "base_uri": "https://localhost:8080/",
          "height": 35
        },
        "outputId": "0df9e7d2-3883-4ba9-b1c2-9055b9b39edc"
      },
      "source": [
        "print(alumno['Matematica'])"
      ],
      "execution_count": null,
      "outputs": [
        {
          "output_type": "stream",
          "text": [
            "7\n"
          ],
          "name": "stdout"
        }
      ]
    },
    {
      "cell_type": "markdown",
      "metadata": {
        "id": "oloubsnc6nKD"
      },
      "source": [
        "#### Mini task 4\n",
        "\n",
        "Escribir una funcion que se le pase un **dataframe**, indice de un alumno y haga el promedio de sus materias."
      ]
    },
    {
      "cell_type": "code",
      "metadata": {
        "id": "R71K7ner6o8h"
      },
      "source": [
        "datos = pd.read_excel(\"Datos.xlsx\") \n"
      ],
      "execution_count": null,
      "outputs": []
    },
    {
      "cell_type": "markdown",
      "metadata": {
        "id": "mL7YIBlP6vuE"
      },
      "source": [
        "## Filtrado de datos\n",
        "Pandas nos permite trabajar de forma simple con los datos, filtrarlos, sumarlos.\n",
        "\n",
        "Veamos operaciones con los datos:\n",
        "\n",
        "- Operaciones matematicas: Veamos un ejemplo para sacar todos los promedios de los alumnos a la vez."
      ]
    },
    {
      "cell_type": "code",
      "metadata": {
        "id": "rcNWN_MB7IvD",
        "colab": {
          "base_uri": "https://localhost:8080/",
          "height": 173
        },
        "outputId": "f58ef896-03b5-4d5b-a448-76875c42d7c9"
      },
      "source": [
        "promedios = (datos['Quimica']+datos['Matematica']+datos['Fisica'])/3\n",
        "print('Todos los promedios')\n",
        "print(promedios)\n",
        "print('El promedio maximo es',promedios.max())"
      ],
      "execution_count": null,
      "outputs": [
        {
          "output_type": "stream",
          "text": [
            "Todos los promedios\n",
            "0    8.666667\n",
            "1    5.666667\n",
            "2    3.333333\n",
            "3    9.000000\n",
            "4    7.000000\n",
            "5    2.333333\n",
            "dtype: float64\n",
            "El promedio maximo es 9.0\n"
          ],
          "name": "stdout"
        }
      ]
    },
    {
      "cell_type": "markdown",
      "metadata": {
        "id": "EdGw9iAB7Fzz"
      },
      "source": [
        "- Filtrado: Nos permite filtrar los datos segun alguna condicion. Esto se realiza de la siguiente manera\n",
        "> variable**[** (condicion1) &/| (condicion2) &/| (condicion3) ...  **]**\n",
        "\n",
        "Las condiciones siguien el siguiente formato: variable**[** propiedad **]** >/</<=/... (número)\n",
        "\n",
        "Nota: No debe ser si o si un numero, puede chequearse contra cualquier cosa mientras se puedan cumplir esas condiciones (mayor, menor, mayor o igual, igual, etc.).\n",
        "\n",
        "Veamos un ejemplo extrayendo todos los alumnos que hayan aprobado quimica (nota>4):"
      ]
    },
    {
      "cell_type": "code",
      "metadata": {
        "id": "3lSHLVUj7Yqn"
      },
      "source": [
        "aprobados = datos[(datos['Quimica']>=4) & (datos['Matematica']>=7)]\n",
        "print(aprobados)"
      ],
      "execution_count": null,
      "outputs": []
    },
    {
      "cell_type": "markdown",
      "metadata": {
        "id": "LpPtaI977eSc"
      },
      "source": [
        "#### Mini task 5\n",
        "\n",
        "Obtener el promedio general de todos los aprobados en Matematica."
      ]
    },
    {
      "cell_type": "code",
      "metadata": {
        "id": "1aNWm0lp7c9-"
      },
      "source": [
        ""
      ],
      "execution_count": null,
      "outputs": []
    },
    {
      "cell_type": "markdown",
      "metadata": {
        "id": "GDfNoHO87qwm"
      },
      "source": [
        "- Agregar columnas: Para agregar una columa simplemente utilizamos\n",
        "> variable**[** nombre nueva columna **]** = datos nueva columna\n",
        "\n",
        "Veamos un ejemplo:"
      ]
    },
    {
      "cell_type": "code",
      "metadata": {
        "id": "htxhD5s87_XS"
      },
      "source": [
        "promedios = (datos['Quimica']+datos['Matematica']+datos['Fisica'])/3\n",
        "datos['Promedio'] = promedios\n",
        "print(datos)"
      ],
      "execution_count": null,
      "outputs": []
    },
    {
      "cell_type": "markdown",
      "metadata": {
        "id": "qAl4rYZw8AIV"
      },
      "source": [
        "- Obtener los datos en un diccionario: Pandas tambien nos permite obtener los datos de una forma que ya conocemos que es como un diccionario. Para ello le debemos decir cuales van a ser los keys que debe utilizar. Para eso cuando lo leemos le debemos decir la columna que queremos usar de indice.\n",
        "\n",
        "> pd.read_csv('archivo', **index_col** = [propiedad])\n",
        "\n",
        "Veamos un ejemplo:\n",
        "\n",
        "\n"
      ]
    },
    {
      "cell_type": "code",
      "metadata": {
        "id": "5ZKWYQwv8cag"
      },
      "source": [
        "import pandas as pd\n",
        "\n",
        "archivo = pd.read_csv(\"Datos.csv\", index_col =[\"Legajo\"]) \n",
        "print(archivo)"
      ],
      "execution_count": null,
      "outputs": []
    },
    {
      "cell_type": "markdown",
      "metadata": {
        "id": "JeQZWH148h5L"
      },
      "source": [
        "Observen que ahora la primera columna en vez de ser 0,1,2,... son los legajos, esto nos permite acceder con .loc por legajo!"
      ]
    },
    {
      "cell_type": "code",
      "metadata": {
        "id": "yI_nCqg48mwN"
      },
      "source": [
        "print(archivo.loc[34567])"
      ],
      "execution_count": null,
      "outputs": []
    },
    {
      "cell_type": "markdown",
      "metadata": {
        "id": "CF7SjJdU4BA5"
      },
      "source": [
        "## Nota final\n",
        "\n",
        "Esta libería nos permite simplificar en gran medida el trabajo de convertir información de archivos a datos manejables por nuestro programa en gran medida. Mostramos algunos ejemplos elementales del uso de pandas, no obstante pueden conseguir la documentación oficial de pandas [aquí](http://pandas.pydata.org/pandas-docs/stable/). \n",
        "\n",
        "La habilidad de leer y entender la documentación  de librerías se adquiere con tiempo y experiencia, es muy valorada en la industria."
      ]
    },
    {
      "cell_type": "markdown",
      "metadata": {
        "id": "H-KePvhOVimc"
      },
      "source": [
        "# Lectura de otro tipos de archivos\n",
        "\n",
        "*   ***Información no estructurada***\n",
        "\n",
        "\n",
        "A veces es necesario realizar un programa que pueda procesar información que se encuentra en un formato \"personalizado\", necesitamos en tales casos realizar entonces un programa especializado.\n",
        "\n",
        "El analisis de un texto es un ejemplo de un archivo para el cual necesitamos realizar una lectura en modo \"manual\". \n",
        "\n",
        "Imaginemos que se necesita leer un archivo .txt con una noticia del diario **The New York Times** y analizar su contenido. \n",
        "\n",
        "<img src=\"http://www.harfordcountyhealth.com/wp-content/uploads/2015/01/Newspaper.jpg\" width=400>\n",
        "\n",
        "El archivo es **noticia.txt**, lo importaremos a la nube con el siguiente comando "
      ]
    },
    {
      "cell_type": "code",
      "metadata": {
        "id": "y_-0wkj4WK7x",
        "colab": {
          "base_uri": "https://localhost:8080/",
          "height": 228
        },
        "outputId": "4ca655df-cea8-4a6f-b8ef-70762ce25f66"
      },
      "source": [
        "! wget \"https://raw.githubusercontent.com/IEEESBITBA/Curso-Python/master/Clase_3_datos/noticia.txt\""
      ],
      "execution_count": null,
      "outputs": [
        {
          "output_type": "stream",
          "text": [
            "--2019-09-10 00:06:12--  https://raw.githubusercontent.com/IEEESBITBA/Curso-Python/master/Clase_3_datos/noticia.txt\n",
            "Resolving raw.githubusercontent.com (raw.githubusercontent.com)... 151.101.0.133, 151.101.64.133, 151.101.128.133, ...\n",
            "Connecting to raw.githubusercontent.com (raw.githubusercontent.com)|151.101.0.133|:443... connected.\n",
            "HTTP request sent, awaiting response... 200 OK\n",
            "Length: 1153 (1.1K) [text/plain]\n",
            "Saving to: ‘noticia.txt.1’\n",
            "\n",
            "\rnoticia.txt.1         0%[                    ]       0  --.-KB/s               \rnoticia.txt.1       100%[===================>]   1.13K  --.-KB/s    in 0s      \n",
            "\n",
            "2019-09-10 00:06:13 (297 MB/s) - ‘noticia.txt.1’ saved [1153/1153]\n",
            "\n"
          ],
          "name": "stdout"
        }
      ]
    },
    {
      "cell_type": "markdown",
      "metadata": {
        "id": "NM3Fc5ImWOWz"
      },
      "source": [
        "En este caso abriremos el archivo con el comando \"open\" de python y guardamos en una lista strings con el contenido \"en bruto\", separado en cada linea.\n",
        "Observen que no estamos utilizando librerías"
      ]
    },
    {
      "cell_type": "code",
      "metadata": {
        "id": "SZJ9SYxBWQCb"
      },
      "source": [
        "file = open(\"noticia.txt\") # cargamos el archivo a la memoria\n",
        "\n",
        "contenido = file.readlines() # calculamos todas las lineas\n",
        "print(contenido)\n",
        "\n",
        "for line in contenido: \n",
        "    print(line) #mostramos linea a linea"
      ],
      "execution_count": null,
      "outputs": []
    },
    {
      "cell_type": "markdown",
      "metadata": {
        "id": "ZKs68NfOX2JM"
      },
      "source": [
        "Luego de poder almacenar el contenido, lo separaremos por palabras utilizando en comando split"
      ]
    },
    {
      "cell_type": "code",
      "metadata": {
        "id": "LCNVL9hVWb0i"
      },
      "source": [
        "palabras = []\n",
        "\n",
        "for line in contenido:\n",
        "    \n",
        "    palabras_linea = line.split(' ') # separamos por espacios\n",
        "    \n",
        "    for palabra in palabras_linea: # por cada \"string\" separado por espacios\n",
        "        palabras.append(palabra)\n",
        "\n",
        "print(palabras)"
      ],
      "execution_count": null,
      "outputs": []
    },
    {
      "cell_type": "markdown",
      "metadata": {
        "id": "idd9lVBFYInK"
      },
      "source": [
        "¡Podemos observar que algunos carácteres no deseados (como '\\ufeff' o '\\n') se filtran entre las palabras! Es habitual que cuando analizemos un archivo a mano de manera \"personalizada\" ocurran esta clase de problemas, los cuales debemos resolver con algunos parches a nuestro programa. En este caso los carácteres no deseados que podemos observar a simple vista son **\\ufeff**, **—**, **\\n**, **’s**. Los filtraremos utilizando el comando [replace](https://www.geeksforgeeks.org/python-string-replace/) de python"
      ]
    },
    {
      "cell_type": "code",
      "metadata": {
        "id": "Q_mvfMWgYK3z",
        "colab": {
          "base_uri": "https://localhost:8080/",
          "height": 55
        },
        "outputId": "28fcb282-ccaa-4fcc-ccc6-8e6a12cf9fe0"
      },
      "source": [
        "palabras = []\n",
        "\n",
        "for line in contenido:\n",
        "    \n",
        "    # eliminamos los distintos carácteres no deseados uno por uno\n",
        "    line = line.replace('\\ufeff','')\n",
        "    line = line.replace('—','')\n",
        "    line = line.replace('\\n','')\n",
        "    line = line.replace('’s','')\n",
        "    line = line.replace(',','')\n",
        "    line = line.replace('.','')\n",
        "   \n",
        "    palabras_linea = line.split(' ') # separamos por espacios \n",
        "    \n",
        "    for palabra in palabras_linea: # por cada \"string\" separado por espacios\n",
        "      if palabra != '':\n",
        "        palabras.append(palabra.upper())\n",
        "\n",
        "print(palabras)"
      ],
      "execution_count": null,
      "outputs": [
        {
          "output_type": "stream",
          "text": [
            "['WASHINGTON', 'THE', 'WHITE', 'HOUSE', 'BLINDSIDED', 'BY', 'A', 'PACT', 'BETWEEN', 'CALIFORNIA', 'AND', 'FOUR', 'AUTOMAKERS', 'TO', 'OPPOSE', 'PRESIDENT', 'TRUMP', 'AUTO', 'EMISSIONS', 'ROLLBACKS', 'HAS', 'MOUNTED', 'AN', 'EFFORT', 'TO', 'PREVENT', 'ANY', 'MORE', 'COMPANIES', 'FROM', 'JOINING', 'THE', 'OTHER', 'SIDE', 'TOYOTA', 'FIAT', 'CHRYSLER', 'AND', 'GENERAL', 'MOTORS', 'WERE', 'ALL', 'SUMMONED', 'BY', 'A', 'SENIOR', 'TRUMP', 'ADVISER', 'TO', 'A', 'WHITE', 'HOUSE', 'MEETING', 'LAST', 'MONTH', 'WHERE', 'HE', 'PRESSED', 'THEM', 'TO', 'STAND', 'BY', 'THE', 'PRESIDENT', 'OWN', 'INITIATIVE', 'ACCORDING', 'TO', 'FOUR', 'PEOPLE', 'FAMILIAR', 'WITH', 'THE', 'TALKS', 'BUT', 'EVEN', 'AS', 'THE', 'WHITE', 'HOUSE', 'WAS', 'WORKING', 'TO', 'DO', 'THIS', 'IT', 'WAS', 'LOSING', 'GROUND', 'YET', 'ANOTHER', 'COMPANY', 'MERCEDES-BENZ', 'IS', 'PREPARING', 'TO', 'JOIN', 'THE', 'FOUR', 'AUTOMAKERS', 'ALREADY', 'IN', 'THE', 'CALIFORNIA', 'AGREEMENT', 'HONDA', 'FORD', 'VOLKSWAGEN', 'AND', 'BMW', 'ACCORDING', 'TO', 'TWO', 'PEOPLE', 'FAMILIAR', 'WITH', 'THE', 'GERMAN', 'COMPANY', 'PLANS', 'MR', 'TRUMP', 'DESCRIBED', 'BY', 'THREE', 'PEOPLE', 'AS', 'ENRAGED', 'BY', 'CALIFORNIA', 'DEAL', 'HAS', 'DEMANDED', 'THAT', 'HIS', 'STAFF', 'MEMBERS', 'STEP', 'UP', 'THE', 'PACE', 'TO', 'COMPLETE', 'HIS', 'PLAN', 'HIS', 'PROPOSAL', 'HOWEVER', 'IS', 'DIRECTLY', 'AT', 'ODDS', 'WITH', 'THE', 'WISHES', 'OF', 'MANY', 'AUTOMAKERS', 'WHICH', 'FEAR', 'THAT', 'THE', 'AGGRESSIVE', 'ROLLBACKS', 'WILL', 'SPARK', 'A', 'LEGAL', 'BATTLE', 'BETWEEN', 'CALIFORNIA', 'AND', 'THE', 'FEDERAL', 'GOVERNMENT', 'THAT', 'COULD', 'SPLIT', 'THE', 'UNITED', 'STATES', 'CAR', 'MARKET']\n"
          ],
          "name": "stdout"
        }
      ]
    },
    {
      "cell_type": "markdown",
      "metadata": {
        "id": "otvgfYbJWiyD"
      },
      "source": [
        "### Mini task"
      ]
    },
    {
      "cell_type": "markdown",
      "metadata": {
        "id": "sq_DN-uSW3Fq"
      },
      "source": [
        "Encontrar la cantidad de ocurrencias de la palabras \"**Trump**\" y \"**the**\" en el texto"
      ]
    },
    {
      "cell_type": "code",
      "metadata": {
        "id": "l3TZOs7mXVqB",
        "colab": {
          "base_uri": "https://localhost:8080/",
          "height": 52
        },
        "outputId": "88aeccdc-ef6d-477b-ce5f-f8e221eac1e0"
      },
      "source": [
        "cant_trump = 0\n",
        "cant_the = 0\n",
        "for palabra in palabras:\n",
        "    if palabra == 'TRUMP':\n",
        "        cant_trump +=1\n",
        "    elif palabra == 'THE':\n",
        "        cant_the +=1\n",
        "print('Trump:',cant_trump)\n",
        "print('The:',cant_the)"
      ],
      "execution_count": null,
      "outputs": [
        {
          "output_type": "stream",
          "text": [
            "Trump: 3\n",
            "The: 13\n"
          ],
          "name": "stdout"
        }
      ]
    },
    {
      "cell_type": "markdown",
      "metadata": {
        "id": "q_PScHCAWwAi"
      },
      "source": [
        "\n",
        "## Nota final\n",
        "\n",
        "Es importante que sepan que si bien el uso de librerías simplifica en gran medida nuestros programas, y es una habilidad de gran relevancia saber utilizarlas; a veces, pueden existir limitaciones de versatilidad en su uso, y necesitaremos realizar un programa especifico para analizar nuestros datos."
      ]
    },
    {
      "cell_type": "markdown",
      "metadata": {
        "id": "7jVxIIktPVKN"
      },
      "source": [
        "# Liberías numpy y matplotlib\n",
        "\n",
        "Se dará una introducción a estas dos liberías que son de las más utilizadas. "
      ]
    },
    {
      "cell_type": "markdown",
      "metadata": {
        "id": "etUHTGMgPPEW"
      },
      "source": [
        "## Numpy\n",
        "[Numpy]((https://numpy.org/) (**Num**-ber **Py**-thon) es la libreria estándar de Python para trabajar con vectores y matrices. Extiende la funcionalidad de python permitiendo el uso de expresiones vectorizadas (tales como las de matlab, competencia en el campo de cálculo cientifico)\n",
        "\n",
        "<img src=\"https://upload.wikimedia.org/wikipedia/commons/thumb/1/1a/NumPy_logo.svg/1200px-NumPy_logo.svg.png\" width = 450>\n",
        "\n",
        "## Maplotlib\n",
        "[Matplotlib](https://matplotlib.org/) (**Mat**-h **Plot** **Lib**rary) es la libreria estandar de Python para realizar gráficos de diversos tipos. \n",
        "\n",
        "<img src=\"https://matplotlib.org/_static/logo2.png\" width= 500>\n",
        "\n",
        "A continuación mostraremos un ejemplo del uso de numpy y maplotlib utilizando las siguientes funciones:\n",
        "\n",
        "\n",
        "\n",
        "*   [np.arrage()](https://docs.scipy.org/doc/numpy/reference/generated/numpy.arange.html)\n",
        "*   [np.sin()](https://docs.scipy.org/doc/numpy/reference/generated/numpy.sin.html)\n",
        "*   [plt.plot()](https://matplotlib.org/3.1.1/api/_as_gen/matplotlib.pyplot.plot.html)\n",
        "*   [plt.show()](https://matplotlib.org/3.1.1/api/_as_gen/matplotlib.pyplot.show.html)\n",
        "\n"
      ]
    },
    {
      "cell_type": "code",
      "metadata": {
        "id": "miYnujxMRbXv"
      },
      "source": [
        "import matplotlib.pyplot as plt\n",
        "import numpy as np\n",
        "import math\n",
        "t = np.linspace(0,1,10000)\n",
        "#np.arange(0,1,0.01) # vector de tiempos\n",
        "seno = 5*np.sin(2*np.pi*10*t) # expresion vectorizada, tenemos los valores de sin(x) en cada instante\n",
        "\n",
        "plt.plot(t,seno)\n",
        "plt.show()\n"
      ],
      "execution_count": null,
      "outputs": []
    },
    {
      "cell_type": "markdown",
      "metadata": {
        "id": "NedxQI6NS30_"
      },
      "source": [
        "#### Mini task\n",
        "\n",
        "Gráficar en el intervalo de [-5, 5] una [función gaussiana](https://es.wikipedia.org/wiki/Funci%C3%B3n_gaussiana) definida como\n",
        "\n",
        "$$ f(x) = e^{-x^2/2} $$\n",
        "\n",
        "Usar la funcion [np.exp](https://docs.scipy.org/doc/numpy/reference/generated/numpy.exp.html) de numpy "
      ]
    },
    {
      "cell_type": "code",
      "metadata": {
        "id": "zkMmAq-uVJNx"
      },
      "source": [
        "t = np.arange(-5,5,0.01)\n",
        "f = np.exp(-(t**2)/2)\n",
        "plt.plot(t,f)\n",
        "plt.show()"
      ],
      "execution_count": null,
      "outputs": []
    },
    {
      "cell_type": "markdown",
      "metadata": {
        "id": "fIcUS9hfVJmQ"
      },
      "source": [
        "### Nota final\n",
        "\n",
        "Si bien es posible realizar cálculos de vectores y matrices sin utilizar librerias con los conocimientos anteriores, la notación vectorizada suele ser más facil de leer, y en muchas ocasiones más optimizada. \n",
        "Es importante saber utilizarla, y también conocer sus limites, a veces un loop puede ser la opción más adecuada.\n",
        "\n",
        "La clase proxima se verán estas dos liberías con una mayor profundidad\n"
      ]
    },
    {
      "cell_type": "markdown",
      "metadata": {
        "id": "3UmXCJj6zoHw"
      },
      "source": [
        "# Ejercitación integradora $\\newcommand{\\dif}{\\bigstar}$$\\newcommand{\\facil}{\\color{\\green}{\\dif}}$ $\\newcommand{\\pieceofcake}{\\color{\\cyan}{\\dif}}$$\\newcommand{\\medio}{\\color{\\yellow}{\\dif\\dif}}$$\\newcommand{\\media}{\\medio}$$\\newcommand{\\normal}{\\medio}$  $\\newcommand{\\dificil}{\\color{\\orange}{\\dif\\dif\\dif}}$ $\\newcommand{\\imposible}{\\color{\\red}{\\dif\\dif\\dif\\dif}}$\n"
      ]
    },
    {
      "cell_type": "markdown",
      "metadata": {
        "id": "dz1uvBrZlIHA"
      },
      "source": [
        "## $\\facil$ Copy\n",
        "*   ***Manejo de archivos***\n",
        "\n"
      ]
    },
    {
      "cell_type": "markdown",
      "metadata": {
        "id": "8IWMzemXSxMB"
      },
      "source": [
        "Armar una función que copie un archivo, y lo guarde como Copia 1 - $nombre$, de ya existir debe guardarlo como Copia 2 -, Copia 3 - , ...\n",
        "\n",
        "Usar la libreria os para chequear si existe el archivo:\n",
        "> os.path.exists($nombre$) devolverá True si ya existe\n",
        "> importar con: Import os"
      ]
    },
    {
      "cell_type": "code",
      "metadata": {
        "id": "ChcJscsB0tbE",
        "colab": {
          "base_uri": "https://localhost:8080/",
          "height": 52
        },
        "outputId": "1746fb25-1f35-45e9-f160-8227c5fd3bf5"
      },
      "source": [
        "import os\n",
        "\n",
        "def func(nombre):\n",
        "    if(os.path.exists(nombre)==True):\n",
        "        print('Existe')\n",
        "    else:\n",
        "        print('No existe')\n",
        "        \n",
        "func('Datos.xlsx')\n",
        "func('Hola.xlsx')"
      ],
      "execution_count": null,
      "outputs": [
        {
          "output_type": "stream",
          "text": [
            "Existe\n",
            "No existe\n"
          ],
          "name": "stdout"
        }
      ]
    },
    {
      "cell_type": "markdown",
      "metadata": {
        "id": "Z8gmZrau0b4E"
      },
      "source": [
        "## $\\facil$ Análisis de idiomas\n",
        "\n",
        "*   ***Analísis de información no estructurada***\n"
      ]
    },
    {
      "cell_type": "markdown",
      "metadata": {
        "id": "QzYf6ACoS6Uz"
      },
      "source": [
        "Importar el archivo **noticia.txt**"
      ]
    },
    {
      "cell_type": "code",
      "metadata": {
        "id": "rHALpjUJ0hlE"
      },
      "source": [
        "! wget \"https://raw.githubusercontent.com/IEEESBITBA/Curso-Python/master/Clase_3_datos/noticia.txt\""
      ],
      "execution_count": null,
      "outputs": []
    },
    {
      "cell_type": "markdown",
      "metadata": {
        "id": "upKG43LX0dCt"
      },
      "source": [
        "Calcular la [frecuencia de aparición de letras](https://en.wikipedia.org/wiki/Letter_frequency). Compararla con la frecuencia de letras cáracteristica del idioma Inglés (En el articulo de wikipedia pueden encontrarla). ¿Existe alguna relación?"
      ]
    },
    {
      "cell_type": "code",
      "metadata": {
        "id": "5OyCXXgL0-9d"
      },
      "source": [
        "file = open(\"noticia.txt\") # cargamos el archivo a la memoria\n",
        "\n",
        "contenido = file.readlines() # calculamos todas las lineas"
      ],
      "execution_count": null,
      "outputs": []
    },
    {
      "cell_type": "markdown",
      "metadata": {
        "id": "RhBBj36A0w3e"
      },
      "source": [
        "## $\\facil$ California Housing\n",
        "\n",
        "*   ***Analísis de información estructurada***\n",
        "*   ***Librerías***\n",
        "\n",
        "\n"
      ]
    },
    {
      "cell_type": "markdown",
      "metadata": {
        "id": "YV-ehh-3TFE_"
      },
      "source": [
        "Importar el archivo **california_housing_train.xlsx**. "
      ]
    },
    {
      "cell_type": "code",
      "metadata": {
        "id": "qDy9QmNZ4FS8"
      },
      "source": [
        "! wget \"https://raw.githubusercontent.com/IEEESBITBA/Curso-Python/master/Clase_3_datos/california_housing_train.xlsx\""
      ],
      "execution_count": null,
      "outputs": []
    },
    {
      "cell_type": "markdown",
      "metadata": {
        "id": "Pfqjp8MH5sfY"
      },
      "source": [
        "Este archivo contiene un conjunto de datos de viviendas de California, el cual fue extraido del censo de nacional de 1990. Para mas info sobre el set de datos: https://developers.google.com/machine-learning/crash-course/california-housing-data-description\n",
        "\n",
        "Extraer la siguiente información:\n",
        "\n",
        "*   ¿Cuantas casas hay con valor 'median_house_value' mayor a 80000 tomando de la longitud -120  a -118? Rta: 5466\n",
        "*   ¿Cual es el promedio de habitaciones por manzana ('total_rooms') de estas casas? Rta: 2466.31\n",
        "\n",
        "*   ¿Cual es la casa más cara? ¿Cuántas hay con este valor? Rta: 500001.0 - 814 \n",
        "\n",
        "*   $\\medio$ Obtener la media y la varianza de la propiedad 'median_house_value'. Rta: 207300.91 - 13451442293.57\n",
        "\n",
        "Tip: ¡Pueden utilizar funciones de python para conseguir la media y la varianza!  [numpy.var](https://docs.scipy.org/doc/numpy-1.6.0/reference/generated/numpy.var.html)"
      ]
    },
    {
      "cell_type": "code",
      "metadata": {
        "id": "i4eMHo5N1D6S"
      },
      "source": [
        "import pandas as pd\n",
        "import numpy as np\n",
        "\n",
        "archivo = pd.read_csv(\"california_housing_train.xlsx\") \n"
      ],
      "execution_count": null,
      "outputs": []
    },
    {
      "cell_type": "markdown",
      "metadata": {
        "id": "JZkXQVHHB9ps"
      },
      "source": [
        "## $\\medio$ El tiempo es dinero\n",
        "\n",
        "*   ***Analisís de información estructurada***\n",
        "*   ***Librerías***\n",
        "\n"
      ]
    },
    {
      "cell_type": "markdown",
      "metadata": {
        "id": "gOEr6pETTQ3d"
      },
      "source": [
        "\n",
        "\n",
        "La administración del dinero es una tarea que requiere una altísima fiabilidad. En esta ocasión tu objetivo será programar un script que actualize los montos de dinero de una serie de usuarios a partir de la información de las transferencias que fueron realizadas. \n",
        "\n",
        "Importar el archivo **Finanzas.xlsx**"
      ]
    },
    {
      "cell_type": "code",
      "metadata": {
        "id": "xDfaq9hDCAii",
        "colab": {
          "base_uri": "https://localhost:8080/",
          "height": 224
        },
        "outputId": "8a0e7847-449d-43b3-d503-779628667ea2"
      },
      "source": [
        "! wget \"https://raw.githubusercontent.com/IEEESBITBA/Curso-Python/master/Clase_3_datos/Finanzas.xlsx\""
      ],
      "execution_count": null,
      "outputs": [
        {
          "output_type": "stream",
          "text": [
            "--2019-09-12 03:06:59--  https://raw.githubusercontent.com/IEEESBITBA/Curso-Python/master/Clase_3_datos/Finanzas.xlsx\n",
            "Resolving raw.githubusercontent.com (raw.githubusercontent.com)... 151.101.0.133, 151.101.64.133, 151.101.128.133, ...\n",
            "Connecting to raw.githubusercontent.com (raw.githubusercontent.com)|151.101.0.133|:443... connected.\n",
            "HTTP request sent, awaiting response... 200 OK\n",
            "Length: 10809 (11K) [application/octet-stream]\n",
            "Saving to: ‘Finanzas.xlsx’\n",
            "\n",
            "Finanzas.xlsx       100%[===================>]  10.56K  --.-KB/s    in 0s      \n",
            "\n",
            "2019-09-12 03:07:04 (76.5 MB/s) - ‘Finanzas.xlsx’ saved [10809/10809]\n",
            "\n"
          ],
          "name": "stdout"
        }
      ]
    },
    {
      "cell_type": "markdown",
      "metadata": {
        "id": "PSS0bUd8CGQx"
      },
      "source": [
        "<img src=\"https://psmag.com/.image/t_share/MTI3NTgyMzg2MzE2NzAxNjY2/time-is-money.jpg\" width=400>"
      ]
    },
    {
      "cell_type": "markdown",
      "metadata": {
        "id": "TCM6UYHPGIdl"
      },
      "source": [
        "Debes procesar las transferencias y actualizar el saldo de cada usuario (crear un nuevo archivo excel con los saldos actualizados)"
      ]
    },
    {
      "cell_type": "code",
      "metadata": {
        "id": "vNW7TVWHCc45"
      },
      "source": [
        "usuarios_archivo = pd.read_excel(\"Finanzas.xlsx\", \"Usuarios\",index_col=\"Usuario\") \n",
        "#leemos los usuarios \"indexados\" por su nombre\n",
        "\n",
        "transferencias_archivo = pd.read_excel(\"Finanzas.xlsx\", \"Transferencias\")\n"
      ],
      "execution_count": null,
      "outputs": []
    },
    {
      "cell_type": "markdown",
      "metadata": {
        "id": "8CmN7SuE6ml-"
      },
      "source": [
        "## $\\dificil $ Buscando la $\n",
        "\n",
        "\n",
        "*   ***Procesamiento de información estructurada***\n",
        "*   ***Librerías***\n",
        "\n",
        "\n",
        "\n"
      ]
    },
    {
      "cell_type": "markdown",
      "metadata": {
        "id": "WYHHRHbG7KEl"
      },
      "source": [
        "Utilizando el set de datos del archivo **california_housing_train.xlsx**\n",
        "\n",
        "Dividir el area cubierta por el censo en cuadrantes de 0.5 de latitud x 0.5  de longitud, encontrar para que cuadrante el valor medio de 'median_house_value' es máximo. Asignar el paso como una variable para que pueda cambiarse facilmente. Para filtrar las zonas de muy baja residencia descarten los valores cuando hay menos de 100 casas\n",
        "\n",
        "Datos utiles:\n",
        "- Minimo de longitud: -124.3\n",
        "- Máximo de longitud: -114.3\n",
        "- Minimo de latitud: 32.5\n",
        "- Máximo de latitud: 42.5\n",
        "\n",
        "Tip: El programa va a tardar en correr, no se asusten!\n",
        "\n",
        "**Nota final**: Busquen en el mapa estas coordenadas para ver donde quedan! "
      ]
    },
    {
      "cell_type": "code",
      "metadata": {
        "id": "HFNVBCai692J"
      },
      "source": [
        "import pandas as pd\n",
        "import numpy as np\n",
        "\n",
        "archivo = pd.read_excel(\"california_housing_train.xlsx\") \n",
        "paso = .5\n",
        "\n",
        "lats = np.arange(32.5,42.5,paso)\n",
        "lons = np.arange(-124.3,113.3,paso) \n",
        "maximoValor = 0\n",
        "maximaLat = 0\n",
        "maximaLon = 0"
      ],
      "execution_count": null,
      "outputs": []
    },
    {
      "cell_type": "markdown",
      "metadata": {
        "id": "JzDX-mNenfJ-"
      },
      "source": [
        "## $\\imposible $ Unificación de bases de datos\n",
        "\n",
        "Para notificar a sus clientes de promos y novedades, una empresa cuenta con varias listas de mails, obtenidos de eventos, compras, etc. Lamentablemente, hasta ahora no se ha trabajado de forma muy ordenada, y estas listas no tienen coherencia entre sí: hay personas que están presentes en más de una lista, y no todas las listas cuentan con la misma información sobre los clientes: **lo único que es consistente es que siempre el mail está en la primera columna**. Esta locura debe terminar.\n",
        "\n",
        "Se desea generar una lista unificada de mails, donde estén presentes todos los clientes que se tiene, y sin perder ningún dato sobre ellos. Asimismo, no debe haber personas repetidas, y si se tiene un mismo cliente en dos listas, debe asegurarse que se conserven todos los datos.\n",
        "\n",
        "Se puede asumir que no habrá datos incongruentes entre sí (por ejemplo, que para un mismo mail no figurarán dos nombres distintos), y que si ocurre se puede elegir uno arbitrariamente."
      ]
    },
    {
      "cell_type": "code",
      "metadata": {
        "id": "EKEKk7pOnjpD"
      },
      "source": [
        "! wget \"https://raw.githubusercontent.com/IEEESBITBA/Curso-Python/master/Clase_3_datos/lista1.csv\" \n",
        "# primera lista de clientes\n",
        "\n",
        "! wget \"https://raw.githubusercontent.com/IEEESBITBA/Curso-Python/master/Clase_3_datos/lista2.csv\"\n",
        "# segunda lista de clientes\n",
        "\n",
        "! wget \"https://raw.githubusercontent.com/IEEESBITBA/Curso-Python/master/Clase_3_datos/lista_final.csv\"\n",
        "# ejemplo de como tiene que quedar (las columnas pueden quedar en otro orden! salvo la primera)"
      ],
      "execution_count": null,
      "outputs": []
    },
    {
      "cell_type": "code",
      "metadata": {
        "id": "O-aW9I5bnkID"
      },
      "source": [
        "# con estas lineas pueden obtener los archivos de ejemplo\n",
        "\n",
        "! wget \"https://raw.githubusercontent.com/IEEESBITBA/Curso-Python/master/Clase_3_datos/transferencias.csv\" \n",
        "! wget \"https://raw.githubusercontent.com/IEEESBITBA/Curso-Python/master/Clase_3_datos/usuarios.csv\" "
      ],
      "execution_count": null,
      "outputs": []
    }
  ]
}