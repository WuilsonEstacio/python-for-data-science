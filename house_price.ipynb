{
  "nbformat": 4,
  "nbformat_minor": 0,
  "metadata": {
    "colab": {
      "name": "house_price.ipynb",
      "provenance": [],
      "authorship_tag": "ABX9TyNo0N0lPVYWP07/lNr19UM9",
      "include_colab_link": true
    },
    "kernelspec": {
      "name": "python3",
      "display_name": "Python 3"
    },
    "language_info": {
      "name": "python"
    }
  },
  "cells": [
    {
      "cell_type": "markdown",
      "metadata": {
        "id": "view-in-github",
        "colab_type": "text"
      },
      "source": [
        "<a href=\"https://colab.research.google.com/github/WuilsonEstacio/python-for-data-science/blob/main/house_price.ipynb\" target=\"_parent\"><img src=\"https://colab.research.google.com/assets/colab-badge.svg\" alt=\"Open In Colab\"/></a>"
      ]
    },
    {
      "cell_type": "code",
      "metadata": {
        "id": "-8eJAuDTX9MX"
      },
      "source": [
        "import pandas as pd\n",
        "import numpy as np\n",
        "import matplotlib.pyplot as plt\n",
        "import matplotlib\n",
        "import seaborn as sns\n",
        "from joblib import parallel, delayed"
      ],
      "execution_count": null,
      "outputs": []
    },
    {
      "cell_type": "markdown",
      "metadata": {
        "id": "OyKmBVZ3bDtv"
      },
      "source": [
        "<a href= https://support.minitab.com/es-mx/minitab/18/help-and-how-to/statistics/basic-statistics/how-to/graphical-summary/interpret-the-results/all-statistics-and-graphs/ >estadistica interpretacion </a>"
      ]
    },
    {
      "cell_type": "code",
      "metadata": {
        "colab": {
          "base_uri": "https://localhost:8080/",
          "height": 222
        },
        "id": "HHaHSLlIXbWM",
        "outputId": "12e13c2c-cc50-4d3c-d512-c48dd1fb47eb"
      },
      "source": [
        "df = pd.read_csv('/content/House_Price.csv')\n",
        "df=df[['price',\t'crime_rate',\t'resid_area',\t'air_qual',\t'room_num',\t'age',\t'dist1',\t'dist2',\t'dist3',\t'dist4',\t'teachers',\t'poor_prop',\t'airport',\t'n_hos_beds',\t'n_hot_rooms',\t'waterbody',\t'rainfall']].dropna() # dropna se utliza para eliminar datos perdidos o faltantes\n",
        "df.head()"
      ],
      "execution_count": null,
      "outputs": [
        {
          "output_type": "execute_result",
          "data": {
            "text/html": [
              "<div>\n",
              "<style scoped>\n",
              "    .dataframe tbody tr th:only-of-type {\n",
              "        vertical-align: middle;\n",
              "    }\n",
              "\n",
              "    .dataframe tbody tr th {\n",
              "        vertical-align: top;\n",
              "    }\n",
              "\n",
              "    .dataframe thead th {\n",
              "        text-align: right;\n",
              "    }\n",
              "</style>\n",
              "<table border=\"1\" class=\"dataframe\">\n",
              "  <thead>\n",
              "    <tr style=\"text-align: right;\">\n",
              "      <th></th>\n",
              "      <th>price</th>\n",
              "      <th>crime_rate</th>\n",
              "      <th>resid_area</th>\n",
              "      <th>air_qual</th>\n",
              "      <th>room_num</th>\n",
              "      <th>age</th>\n",
              "      <th>dist1</th>\n",
              "      <th>dist2</th>\n",
              "      <th>dist3</th>\n",
              "      <th>dist4</th>\n",
              "      <th>teachers</th>\n",
              "      <th>poor_prop</th>\n",
              "      <th>airport</th>\n",
              "      <th>n_hos_beds</th>\n",
              "      <th>n_hot_rooms</th>\n",
              "      <th>waterbody</th>\n",
              "      <th>rainfall</th>\n",
              "    </tr>\n",
              "  </thead>\n",
              "  <tbody>\n",
              "    <tr>\n",
              "      <th>0</th>\n",
              "      <td>24.0</td>\n",
              "      <td>0.00632</td>\n",
              "      <td>32.31</td>\n",
              "      <td>0.538</td>\n",
              "      <td>6.575</td>\n",
              "      <td>65.2</td>\n",
              "      <td>4.35</td>\n",
              "      <td>3.81</td>\n",
              "      <td>4.18</td>\n",
              "      <td>4.01</td>\n",
              "      <td>24.7</td>\n",
              "      <td>4.98</td>\n",
              "      <td>YES</td>\n",
              "      <td>5.480</td>\n",
              "      <td>11.1920</td>\n",
              "      <td>River</td>\n",
              "      <td>23</td>\n",
              "    </tr>\n",
              "    <tr>\n",
              "      <th>1</th>\n",
              "      <td>21.6</td>\n",
              "      <td>0.02731</td>\n",
              "      <td>37.07</td>\n",
              "      <td>0.469</td>\n",
              "      <td>6.421</td>\n",
              "      <td>78.9</td>\n",
              "      <td>4.99</td>\n",
              "      <td>4.70</td>\n",
              "      <td>5.12</td>\n",
              "      <td>5.06</td>\n",
              "      <td>22.2</td>\n",
              "      <td>9.14</td>\n",
              "      <td>NO</td>\n",
              "      <td>7.332</td>\n",
              "      <td>12.1728</td>\n",
              "      <td>Lake</td>\n",
              "      <td>42</td>\n",
              "    </tr>\n",
              "    <tr>\n",
              "      <th>2</th>\n",
              "      <td>34.7</td>\n",
              "      <td>0.02729</td>\n",
              "      <td>37.07</td>\n",
              "      <td>0.469</td>\n",
              "      <td>7.185</td>\n",
              "      <td>61.1</td>\n",
              "      <td>5.03</td>\n",
              "      <td>4.86</td>\n",
              "      <td>5.01</td>\n",
              "      <td>4.97</td>\n",
              "      <td>22.2</td>\n",
              "      <td>4.03</td>\n",
              "      <td>NO</td>\n",
              "      <td>7.394</td>\n",
              "      <td>101.1200</td>\n",
              "      <td>None</td>\n",
              "      <td>38</td>\n",
              "    </tr>\n",
              "    <tr>\n",
              "      <th>3</th>\n",
              "      <td>33.4</td>\n",
              "      <td>0.03237</td>\n",
              "      <td>32.18</td>\n",
              "      <td>0.458</td>\n",
              "      <td>6.998</td>\n",
              "      <td>45.8</td>\n",
              "      <td>6.21</td>\n",
              "      <td>5.93</td>\n",
              "      <td>6.16</td>\n",
              "      <td>5.96</td>\n",
              "      <td>21.3</td>\n",
              "      <td>2.94</td>\n",
              "      <td>YES</td>\n",
              "      <td>9.268</td>\n",
              "      <td>11.2672</td>\n",
              "      <td>Lake</td>\n",
              "      <td>45</td>\n",
              "    </tr>\n",
              "    <tr>\n",
              "      <th>4</th>\n",
              "      <td>36.2</td>\n",
              "      <td>0.06905</td>\n",
              "      <td>32.18</td>\n",
              "      <td>0.458</td>\n",
              "      <td>7.147</td>\n",
              "      <td>54.2</td>\n",
              "      <td>6.16</td>\n",
              "      <td>5.86</td>\n",
              "      <td>6.37</td>\n",
              "      <td>5.86</td>\n",
              "      <td>21.3</td>\n",
              "      <td>5.33</td>\n",
              "      <td>NO</td>\n",
              "      <td>8.824</td>\n",
              "      <td>11.2896</td>\n",
              "      <td>Lake</td>\n",
              "      <td>55</td>\n",
              "    </tr>\n",
              "  </tbody>\n",
              "</table>\n",
              "</div>"
            ],
            "text/plain": [
              "   price  crime_rate  resid_area  ...  n_hot_rooms  waterbody  rainfall\n",
              "0   24.0     0.00632       32.31  ...      11.1920      River        23\n",
              "1   21.6     0.02731       37.07  ...      12.1728       Lake        42\n",
              "2   34.7     0.02729       37.07  ...     101.1200       None        38\n",
              "3   33.4     0.03237       32.18  ...      11.2672       Lake        45\n",
              "4   36.2     0.06905       32.18  ...      11.2896       Lake        55\n",
              "\n",
              "[5 rows x 17 columns]"
            ]
          },
          "metadata": {
            "tags": []
          },
          "execution_count": 2
        }
      ]
    },
    {
      "cell_type": "code",
      "metadata": {
        "colab": {
          "base_uri": "https://localhost:8080/"
        },
        "id": "7rQZm6VbZw-a",
        "outputId": "02260704-3566-4aa5-b0b8-a36fbaf4bb5c"
      },
      "source": [
        "df.info()"
      ],
      "execution_count": null,
      "outputs": [
        {
          "output_type": "stream",
          "text": [
            "<class 'pandas.core.frame.DataFrame'>\n",
            "Int64Index: 498 entries, 0 to 505\n",
            "Data columns (total 17 columns):\n",
            " #   Column       Non-Null Count  Dtype  \n",
            "---  ------       --------------  -----  \n",
            " 0   price        498 non-null    float64\n",
            " 1   crime_rate   498 non-null    float64\n",
            " 2   resid_area   498 non-null    float64\n",
            " 3   air_qual     498 non-null    float64\n",
            " 4   room_num     498 non-null    float64\n",
            " 5   age          498 non-null    float64\n",
            " 6   dist1        498 non-null    float64\n",
            " 7   dist2        498 non-null    float64\n",
            " 8   dist3        498 non-null    float64\n",
            " 9   dist4        498 non-null    float64\n",
            " 10  teachers     498 non-null    float64\n",
            " 11  poor_prop    498 non-null    float64\n",
            " 12  airport      498 non-null    object \n",
            " 13  n_hos_beds   498 non-null    float64\n",
            " 14  n_hot_rooms  498 non-null    float64\n",
            " 15  waterbody    498 non-null    object \n",
            " 16  rainfall     498 non-null    int64  \n",
            "dtypes: float64(14), int64(1), object(2)\n",
            "memory usage: 70.0+ KB\n"
          ],
          "name": "stdout"
        }
      ]
    },
    {
      "cell_type": "code",
      "metadata": {
        "colab": {
          "base_uri": "https://localhost:8080/"
        },
        "id": "D7apgdjWcNJ0",
        "outputId": "95a7fa7d-54b7-47ca-e861-f6da328d8261"
      },
      "source": [
        "df.shape # numero de columnas y filas"
      ],
      "execution_count": null,
      "outputs": [
        {
          "output_type": "execute_result",
          "data": {
            "text/plain": [
              "(498, 17)"
            ]
          },
          "metadata": {
            "tags": []
          },
          "execution_count": 4
        }
      ]
    },
    {
      "cell_type": "code",
      "metadata": {
        "colab": {
          "base_uri": "https://localhost:8080/",
          "height": 314
        },
        "id": "2KR_i8MWaHCD",
        "outputId": "d22930c9-6ce9-4a99-e096-505ff7de4f86"
      },
      "source": [
        "df.describe()"
      ],
      "execution_count": null,
      "outputs": [
        {
          "output_type": "execute_result",
          "data": {
            "text/html": [
              "<div>\n",
              "<style scoped>\n",
              "    .dataframe tbody tr th:only-of-type {\n",
              "        vertical-align: middle;\n",
              "    }\n",
              "\n",
              "    .dataframe tbody tr th {\n",
              "        vertical-align: top;\n",
              "    }\n",
              "\n",
              "    .dataframe thead th {\n",
              "        text-align: right;\n",
              "    }\n",
              "</style>\n",
              "<table border=\"1\" class=\"dataframe\">\n",
              "  <thead>\n",
              "    <tr style=\"text-align: right;\">\n",
              "      <th></th>\n",
              "      <th>price</th>\n",
              "      <th>crime_rate</th>\n",
              "      <th>resid_area</th>\n",
              "      <th>air_qual</th>\n",
              "      <th>room_num</th>\n",
              "      <th>age</th>\n",
              "      <th>dist1</th>\n",
              "      <th>dist2</th>\n",
              "      <th>dist3</th>\n",
              "      <th>dist4</th>\n",
              "      <th>teachers</th>\n",
              "      <th>poor_prop</th>\n",
              "      <th>n_hos_beds</th>\n",
              "      <th>n_hot_rooms</th>\n",
              "      <th>rainfall</th>\n",
              "    </tr>\n",
              "  </thead>\n",
              "  <tbody>\n",
              "    <tr>\n",
              "      <th>count</th>\n",
              "      <td>498.000000</td>\n",
              "      <td>498.000000</td>\n",
              "      <td>498.000000</td>\n",
              "      <td>498.000000</td>\n",
              "      <td>498.000000</td>\n",
              "      <td>498.000000</td>\n",
              "      <td>498.000000</td>\n",
              "      <td>498.000000</td>\n",
              "      <td>498.000000</td>\n",
              "      <td>498.000000</td>\n",
              "      <td>498.000000</td>\n",
              "      <td>498.000000</td>\n",
              "      <td>498.000000</td>\n",
              "      <td>498.000000</td>\n",
              "      <td>498.000000</td>\n",
              "    </tr>\n",
              "    <tr>\n",
              "      <th>mean</th>\n",
              "      <td>22.578715</td>\n",
              "      <td>3.588968</td>\n",
              "      <td>41.126526</td>\n",
              "      <td>0.553869</td>\n",
              "      <td>6.287412</td>\n",
              "      <td>68.464056</td>\n",
              "      <td>3.985221</td>\n",
              "      <td>3.641988</td>\n",
              "      <td>3.973394</td>\n",
              "      <td>3.630462</td>\n",
              "      <td>21.541165</td>\n",
              "      <td>12.599116</td>\n",
              "      <td>7.899767</td>\n",
              "      <td>13.047809</td>\n",
              "      <td>39.305221</td>\n",
              "    </tr>\n",
              "    <tr>\n",
              "      <th>std</th>\n",
              "      <td>9.191142</td>\n",
              "      <td>8.605442</td>\n",
              "      <td>6.881695</td>\n",
              "      <td>0.115869</td>\n",
              "      <td>0.703900</td>\n",
              "      <td>28.253422</td>\n",
              "      <td>2.112560</td>\n",
              "      <td>2.113405</td>\n",
              "      <td>2.125105</td>\n",
              "      <td>2.104930</td>\n",
              "      <td>2.162552</td>\n",
              "      <td>7.152105</td>\n",
              "      <td>1.476683</td>\n",
              "      <td>5.275820</td>\n",
              "      <td>12.535150</td>\n",
              "    </tr>\n",
              "    <tr>\n",
              "      <th>min</th>\n",
              "      <td>5.000000</td>\n",
              "      <td>0.006320</td>\n",
              "      <td>30.460000</td>\n",
              "      <td>0.385000</td>\n",
              "      <td>3.561000</td>\n",
              "      <td>2.900000</td>\n",
              "      <td>1.130000</td>\n",
              "      <td>0.920000</td>\n",
              "      <td>1.150000</td>\n",
              "      <td>0.730000</td>\n",
              "      <td>18.000000</td>\n",
              "      <td>1.730000</td>\n",
              "      <td>5.268000</td>\n",
              "      <td>10.057600</td>\n",
              "      <td>3.000000</td>\n",
              "    </tr>\n",
              "    <tr>\n",
              "      <th>25%</th>\n",
              "      <td>17.025000</td>\n",
              "      <td>0.080573</td>\n",
              "      <td>35.145000</td>\n",
              "      <td>0.449000</td>\n",
              "      <td>5.885500</td>\n",
              "      <td>44.550000</td>\n",
              "      <td>2.270000</td>\n",
              "      <td>1.940000</td>\n",
              "      <td>2.232500</td>\n",
              "      <td>1.940000</td>\n",
              "      <td>19.800000</td>\n",
              "      <td>6.905000</td>\n",
              "      <td>6.634500</td>\n",
              "      <td>11.189800</td>\n",
              "      <td>28.000000</td>\n",
              "    </tr>\n",
              "    <tr>\n",
              "      <th>50%</th>\n",
              "      <td>21.200000</td>\n",
              "      <td>0.253715</td>\n",
              "      <td>39.690000</td>\n",
              "      <td>0.538000</td>\n",
              "      <td>6.210000</td>\n",
              "      <td>77.150000</td>\n",
              "      <td>3.405000</td>\n",
              "      <td>3.050000</td>\n",
              "      <td>3.395000</td>\n",
              "      <td>3.105000</td>\n",
              "      <td>20.950000</td>\n",
              "      <td>11.300000</td>\n",
              "      <td>7.999000</td>\n",
              "      <td>13.048800</td>\n",
              "      <td>40.000000</td>\n",
              "    </tr>\n",
              "    <tr>\n",
              "      <th>75%</th>\n",
              "      <td>25.000000</td>\n",
              "      <td>3.647422</td>\n",
              "      <td>48.100000</td>\n",
              "      <td>0.624000</td>\n",
              "      <td>6.623500</td>\n",
              "      <td>94.100000</td>\n",
              "      <td>5.400000</td>\n",
              "      <td>5.000000</td>\n",
              "      <td>5.417500</td>\n",
              "      <td>5.005000</td>\n",
              "      <td>22.600000</td>\n",
              "      <td>16.930000</td>\n",
              "      <td>9.088000</td>\n",
              "      <td>14.169400</td>\n",
              "      <td>50.750000</td>\n",
              "    </tr>\n",
              "    <tr>\n",
              "      <th>max</th>\n",
              "      <td>50.000000</td>\n",
              "      <td>88.976200</td>\n",
              "      <td>57.740000</td>\n",
              "      <td>0.871000</td>\n",
              "      <td>8.780000</td>\n",
              "      <td>100.000000</td>\n",
              "      <td>12.320000</td>\n",
              "      <td>11.930000</td>\n",
              "      <td>12.320000</td>\n",
              "      <td>11.940000</td>\n",
              "      <td>27.400000</td>\n",
              "      <td>37.970000</td>\n",
              "      <td>10.876000</td>\n",
              "      <td>101.120000</td>\n",
              "      <td>60.000000</td>\n",
              "    </tr>\n",
              "  </tbody>\n",
              "</table>\n",
              "</div>"
            ],
            "text/plain": [
              "            price  crime_rate  resid_area  ...  n_hos_beds  n_hot_rooms    rainfall\n",
              "count  498.000000  498.000000  498.000000  ...  498.000000   498.000000  498.000000\n",
              "mean    22.578715    3.588968   41.126526  ...    7.899767    13.047809   39.305221\n",
              "std      9.191142    8.605442    6.881695  ...    1.476683     5.275820   12.535150\n",
              "min      5.000000    0.006320   30.460000  ...    5.268000    10.057600    3.000000\n",
              "25%     17.025000    0.080573   35.145000  ...    6.634500    11.189800   28.000000\n",
              "50%     21.200000    0.253715   39.690000  ...    7.999000    13.048800   40.000000\n",
              "75%     25.000000    3.647422   48.100000  ...    9.088000    14.169400   50.750000\n",
              "max     50.000000   88.976200   57.740000  ...   10.876000   101.120000   60.000000\n",
              "\n",
              "[8 rows x 15 columns]"
            ]
          },
          "metadata": {
            "tags": []
          },
          "execution_count": 5
        }
      ]
    },
    {
      "cell_type": "code",
      "metadata": {
        "colab": {
          "base_uri": "https://localhost:8080/",
          "height": 458
        },
        "id": "NyVuOqpKds7e",
        "outputId": "cfac23ba-9baa-4fbe-cbc7-bfe2c2557e2c"
      },
      "source": [
        "sns.jointplot(x='rainfall', y='price', data=df)"
      ],
      "execution_count": null,
      "outputs": [
        {
          "output_type": "execute_result",
          "data": {
            "text/plain": [
              "<seaborn.axisgrid.JointGrid at 0x7ff9b175bd50>"
            ]
          },
          "metadata": {
            "tags": []
          },
          "execution_count": 6
        },
        {
          "output_type": "display_data",
          "data": {
            "image/png": "[encoded data removed]",
            "text/plain": [
              "<Figure size 432x432 with 3 Axes>"
            ]
          },
          "metadata": {
            "tags": [],
            "needs_background": "light"
          }
        }
      ]
    },
    {
      "cell_type": "code",
      "metadata": {
        "colab": {
          "base_uri": "https://localhost:8080/",
          "height": 296
        },
        "id": "YMbeNmXBgcYE",
        "outputId": "faf8d4fc-94a3-4b22-93f8-54a4380c0047"
      },
      "source": [
        "sns.countplot(x='airport', data=df) # analizamos variables categoricas"
      ],
      "execution_count": null,
      "outputs": [
        {
          "output_type": "execute_result",
          "data": {
            "text/plain": [
              "<matplotlib.axes._subplots.AxesSubplot at 0x7ff9a8d5fe50>"
            ]
          },
          "metadata": {
            "tags": []
          },
          "execution_count": 7
        },
        {
          "output_type": "display_data",
          "data": {
            "image/png": "[encoded data removed]",
            "text/plain": [
              "<Figure size 432x288 with 1 Axes>"
            ]
          },
          "metadata": {
            "tags": [],
            "needs_background": "light"
          }
        }
      ]
    },
    {
      "cell_type": "code",
      "metadata": {
        "colab": {
          "base_uri": "https://localhost:8080/",
          "height": 296
        },
        "id": "mK_aElHTgnzS",
        "outputId": "8fc9cde0-8536-424a-9aab-fde14764b0a3"
      },
      "source": [
        "sns.countplot(x='waterbody', data=df)"
      ],
      "execution_count": null,
      "outputs": [
        {
          "output_type": "execute_result",
          "data": {
            "text/plain": [
              "<matplotlib.axes._subplots.AxesSubplot at 0x7ff9a8879750>"
            ]
          },
          "metadata": {
            "tags": []
          },
          "execution_count": 8
        },
        {
          "output_type": "display_data",
          "data": {
            "image/png": "[encoded data removed]",
            "text/plain": [
              "<Figure size 432x288 with 1 Axes>"
            ]
          },
          "metadata": {
            "tags": [],
            "needs_background": "light"
          }
        }
      ]
    },
    {
      "cell_type": "code",
      "metadata": {
        "colab": {
          "base_uri": "https://localhost:8080/"
        },
        "id": "Qp_AxvT1g208",
        "outputId": "a8b9b357-d7c7-4412-de7e-ffdbf2c9b594"
      },
      "source": [
        "np.percentile(df.n_hot_rooms,[99]) # reprecenta el percentil 99"
      ],
      "execution_count": null,
      "outputs": [
        {
          "output_type": "execute_result",
          "data": {
            "text/plain": [
              "array([15.4])"
            ]
          },
          "metadata": {
            "tags": []
          },
          "execution_count": 9
        }
      ]
    },
    {
      "cell_type": "code",
      "metadata": {
        "colab": {
          "base_uri": "https://localhost:8080/"
        },
        "id": "S_XLi39Xodwe",
        "outputId": "88742a64-b5c2-40c9-9b29-9dd0a5ab3ee3"
      },
      "source": [
        "np.percentile(df.n_hot_rooms,[99])[0] # colocamos ese array como valor numerico"
      ],
      "execution_count": null,
      "outputs": [
        {
          "output_type": "execute_result",
          "data": {
            "text/plain": [
              "15.4"
            ]
          },
          "metadata": {
            "tags": []
          },
          "execution_count": 10
        }
      ]
    },
    {
      "cell_type": "code",
      "metadata": {
        "id": "EPR5ssbgo7Tc"
      },
      "source": [
        "uv=np.percentile(df.n_hot_rooms,[99])[0] # guardamos el valor del percentile"
      ],
      "execution_count": null,
      "outputs": []
    },
    {
      "cell_type": "code",
      "metadata": {
        "colab": {
          "base_uri": "https://localhost:8080/",
          "height": 130
        },
        "id": "OBFVq3elpEEf",
        "outputId": "a6426558-94a5-436a-af24-97b76bf17421"
      },
      "source": [
        "df[(df.n_hot_rooms>uv)] # obtenemos los valores que tenga un percentil mayor a 99 para hallar los outliers"
      ],
      "execution_count": null,
      "outputs": [
        {
          "output_type": "execute_result",
          "data": {
            "text/html": [
              "<div>\n",
              "<style scoped>\n",
              "    .dataframe tbody tr th:only-of-type {\n",
              "        vertical-align: middle;\n",
              "    }\n",
              "\n",
              "    .dataframe tbody tr th {\n",
              "        vertical-align: top;\n",
              "    }\n",
              "\n",
              "    .dataframe thead th {\n",
              "        text-align: right;\n",
              "    }\n",
              "</style>\n",
              "<table border=\"1\" class=\"dataframe\">\n",
              "  <thead>\n",
              "    <tr style=\"text-align: right;\">\n",
              "      <th></th>\n",
              "      <th>price</th>\n",
              "      <th>crime_rate</th>\n",
              "      <th>resid_area</th>\n",
              "      <th>air_qual</th>\n",
              "      <th>room_num</th>\n",
              "      <th>age</th>\n",
              "      <th>dist1</th>\n",
              "      <th>dist2</th>\n",
              "      <th>dist3</th>\n",
              "      <th>dist4</th>\n",
              "      <th>teachers</th>\n",
              "      <th>poor_prop</th>\n",
              "      <th>airport</th>\n",
              "      <th>n_hos_beds</th>\n",
              "      <th>n_hot_rooms</th>\n",
              "      <th>waterbody</th>\n",
              "      <th>rainfall</th>\n",
              "    </tr>\n",
              "  </thead>\n",
              "  <tbody>\n",
              "    <tr>\n",
              "      <th>2</th>\n",
              "      <td>34.7</td>\n",
              "      <td>0.02729</td>\n",
              "      <td>37.07</td>\n",
              "      <td>0.469</td>\n",
              "      <td>7.185</td>\n",
              "      <td>61.1</td>\n",
              "      <td>5.03</td>\n",
              "      <td>4.86</td>\n",
              "      <td>5.01</td>\n",
              "      <td>4.97</td>\n",
              "      <td>22.2</td>\n",
              "      <td>4.03</td>\n",
              "      <td>NO</td>\n",
              "      <td>7.394</td>\n",
              "      <td>101.12</td>\n",
              "      <td>None</td>\n",
              "      <td>38</td>\n",
              "    </tr>\n",
              "    <tr>\n",
              "      <th>423</th>\n",
              "      <td>13.4</td>\n",
              "      <td>7.05042</td>\n",
              "      <td>48.10</td>\n",
              "      <td>0.614</td>\n",
              "      <td>6.103</td>\n",
              "      <td>85.1</td>\n",
              "      <td>2.08</td>\n",
              "      <td>1.80</td>\n",
              "      <td>2.34</td>\n",
              "      <td>1.87</td>\n",
              "      <td>19.8</td>\n",
              "      <td>23.29</td>\n",
              "      <td>NO</td>\n",
              "      <td>8.268</td>\n",
              "      <td>81.12</td>\n",
              "      <td>Lake</td>\n",
              "      <td>29</td>\n",
              "    </tr>\n",
              "  </tbody>\n",
              "</table>\n",
              "</div>"
            ],
            "text/plain": [
              "     price  crime_rate  resid_area  ...  n_hot_rooms  waterbody  rainfall\n",
              "2     34.7     0.02729       37.07  ...       101.12       None        38\n",
              "423   13.4     7.05042       48.10  ...        81.12       Lake        29\n",
              "\n",
              "[2 rows x 17 columns]"
            ]
          },
          "metadata": {
            "tags": []
          },
          "execution_count": 12
        }
      ]
    },
    {
      "cell_type": "code",
      "metadata": {
        "id": "9zJR8bbTp18p"
      },
      "source": [
        "df.n_hot_rooms[(df.n_hot_rooms > 3*uv)]=3*uv"
      ],
      "execution_count": null,
      "outputs": []
    },
    {
      "cell_type": "code",
      "metadata": {
        "colab": {
          "base_uri": "https://localhost:8080/"
        },
        "id": "0TsWOr-TqJxd",
        "outputId": "2d8f9825-03ac-48a4-f88f-04e4cedca775"
      },
      "source": [
        "np.percentile(df.rainfall,[1])[0] # percentil 1 para rainfall"
      ],
      "execution_count": null,
      "outputs": [
        {
          "output_type": "execute_result",
          "data": {
            "text/plain": [
              "20.0"
            ]
          },
          "metadata": {
            "tags": []
          },
          "execution_count": 14
        }
      ]
    },
    {
      "cell_type": "code",
      "metadata": {
        "id": "Qta3f_70qi0c"
      },
      "source": [
        "lv=np.percentile(df.rainfall,[1])[0]"
      ],
      "execution_count": null,
      "outputs": []
    },
    {
      "cell_type": "code",
      "metadata": {
        "colab": {
          "base_uri": "https://localhost:8080/",
          "height": 98
        },
        "id": "g-JpWKEdqmIQ",
        "outputId": "dad8d396-2dd8-4471-efee-28e5da9bd9e5"
      },
      "source": [
        "df[(df.rainfall<lv)] # columnas que cumplen la condicion "
      ],
      "execution_count": null,
      "outputs": [
        {
          "output_type": "execute_result",
          "data": {
            "text/html": [
              "<div>\n",
              "<style scoped>\n",
              "    .dataframe tbody tr th:only-of-type {\n",
              "        vertical-align: middle;\n",
              "    }\n",
              "\n",
              "    .dataframe tbody tr th {\n",
              "        vertical-align: top;\n",
              "    }\n",
              "\n",
              "    .dataframe thead th {\n",
              "        text-align: right;\n",
              "    }\n",
              "</style>\n",
              "<table border=\"1\" class=\"dataframe\">\n",
              "  <thead>\n",
              "    <tr style=\"text-align: right;\">\n",
              "      <th></th>\n",
              "      <th>price</th>\n",
              "      <th>crime_rate</th>\n",
              "      <th>resid_area</th>\n",
              "      <th>air_qual</th>\n",
              "      <th>room_num</th>\n",
              "      <th>age</th>\n",
              "      <th>dist1</th>\n",
              "      <th>dist2</th>\n",
              "      <th>dist3</th>\n",
              "      <th>dist4</th>\n",
              "      <th>teachers</th>\n",
              "      <th>poor_prop</th>\n",
              "      <th>airport</th>\n",
              "      <th>n_hos_beds</th>\n",
              "      <th>n_hot_rooms</th>\n",
              "      <th>waterbody</th>\n",
              "      <th>rainfall</th>\n",
              "    </tr>\n",
              "  </thead>\n",
              "  <tbody>\n",
              "    <tr>\n",
              "      <th>213</th>\n",
              "      <td>28.1</td>\n",
              "      <td>0.14052</td>\n",
              "      <td>40.59</td>\n",
              "      <td>0.489</td>\n",
              "      <td>6.375</td>\n",
              "      <td>32.3</td>\n",
              "      <td>4.11</td>\n",
              "      <td>3.92</td>\n",
              "      <td>4.18</td>\n",
              "      <td>3.57</td>\n",
              "      <td>21.4</td>\n",
              "      <td>9.38</td>\n",
              "      <td>YES</td>\n",
              "      <td>7.562</td>\n",
              "      <td>10.2248</td>\n",
              "      <td>None</td>\n",
              "      <td>3</td>\n",
              "    </tr>\n",
              "  </tbody>\n",
              "</table>\n",
              "</div>"
            ],
            "text/plain": [
              "     price  crime_rate  resid_area  ...  n_hot_rooms  waterbody  rainfall\n",
              "213   28.1     0.14052       40.59  ...      10.2248       None         3\n",
              "\n",
              "[1 rows x 17 columns]"
            ]
          },
          "metadata": {
            "tags": []
          },
          "execution_count": 16
        }
      ]
    },
    {
      "cell_type": "code",
      "metadata": {
        "colab": {
          "base_uri": "https://localhost:8080/",
          "height": 666
        },
        "id": "BnlYmVI_sfNN",
        "outputId": "731e0158-8503-4252-c04d-0be89424dd45"
      },
      "source": [
        "sns.jointplot(x='crime_rate',y='price',data=df,kind='scatter',height=10, ratio=3,) #kind : { \"scatter\" | \"kde\" | \"hist\" | \"hex\" | \"reg\" | \"resid\" }"
      ],
      "execution_count": null,
      "outputs": [
        {
          "output_type": "execute_result",
          "data": {
            "text/plain": [
              "<seaborn.axisgrid.JointGrid at 0x7ff9a8d3bd90>"
            ]
          },
          "metadata": {
            "tags": []
          },
          "execution_count": 17
        },
        {
          "output_type": "display_data",
          "data": {
            "image/png": "[encoded data removed]",
            "text/plain": [
              "<Figure size 720x720 with 3 Axes>"
            ]
          },
          "metadata": {
            "tags": [],
            "needs_background": "light"
          }
        }
      ]
    },
    {
      "cell_type": "code",
      "metadata": {
        "colab": {
          "base_uri": "https://localhost:8080/",
          "height": 314
        },
        "id": "0cNhYP4pd9xJ",
        "outputId": "2e23bb16-d8a4-46e7-d907-91e2f7796aa1"
      },
      "source": [
        "# despues de mirar los outlier los quitaremos para tomar buenas medias \n",
        "df.describe()"
      ],
      "execution_count": null,
      "outputs": [
        {
          "output_type": "execute_result",
          "data": {
            "text/html": [
              "<div>\n",
              "<style scoped>\n",
              "    .dataframe tbody tr th:only-of-type {\n",
              "        vertical-align: middle;\n",
              "    }\n",
              "\n",
              "    .dataframe tbody tr th {\n",
              "        vertical-align: top;\n",
              "    }\n",
              "\n",
              "    .dataframe thead th {\n",
              "        text-align: right;\n",
              "    }\n",
              "</style>\n",
              "<table border=\"1\" class=\"dataframe\">\n",
              "  <thead>\n",
              "    <tr style=\"text-align: right;\">\n",
              "      <th></th>\n",
              "      <th>price</th>\n",
              "      <th>crime_rate</th>\n",
              "      <th>resid_area</th>\n",
              "      <th>air_qual</th>\n",
              "      <th>room_num</th>\n",
              "      <th>age</th>\n",
              "      <th>dist1</th>\n",
              "      <th>dist2</th>\n",
              "      <th>dist3</th>\n",
              "      <th>dist4</th>\n",
              "      <th>teachers</th>\n",
              "      <th>poor_prop</th>\n",
              "      <th>n_hos_beds</th>\n",
              "      <th>n_hot_rooms</th>\n",
              "      <th>rainfall</th>\n",
              "    </tr>\n",
              "  </thead>\n",
              "  <tbody>\n",
              "    <tr>\n",
              "      <th>count</th>\n",
              "      <td>498.000000</td>\n",
              "      <td>498.000000</td>\n",
              "      <td>498.000000</td>\n",
              "      <td>498.000000</td>\n",
              "      <td>498.000000</td>\n",
              "      <td>498.000000</td>\n",
              "      <td>498.000000</td>\n",
              "      <td>498.000000</td>\n",
              "      <td>498.000000</td>\n",
              "      <td>498.000000</td>\n",
              "      <td>498.000000</td>\n",
              "      <td>498.000000</td>\n",
              "      <td>498.000000</td>\n",
              "      <td>498.000000</td>\n",
              "      <td>498.000000</td>\n",
              "    </tr>\n",
              "    <tr>\n",
              "      <th>mean</th>\n",
              "      <td>22.578715</td>\n",
              "      <td>3.588968</td>\n",
              "      <td>41.126526</td>\n",
              "      <td>0.553869</td>\n",
              "      <td>6.287412</td>\n",
              "      <td>68.464056</td>\n",
              "      <td>3.985221</td>\n",
              "      <td>3.641988</td>\n",
              "      <td>3.973394</td>\n",
              "      <td>3.630462</td>\n",
              "      <td>21.541165</td>\n",
              "      <td>12.599116</td>\n",
              "      <td>7.899767</td>\n",
              "      <td>12.867407</td>\n",
              "      <td>39.305221</td>\n",
              "    </tr>\n",
              "    <tr>\n",
              "      <th>std</th>\n",
              "      <td>9.191142</td>\n",
              "      <td>8.605442</td>\n",
              "      <td>6.881695</td>\n",
              "      <td>0.115869</td>\n",
              "      <td>0.703900</td>\n",
              "      <td>28.253422</td>\n",
              "      <td>2.112560</td>\n",
              "      <td>2.113405</td>\n",
              "      <td>2.125105</td>\n",
              "      <td>2.104930</td>\n",
              "      <td>2.162552</td>\n",
              "      <td>7.152105</td>\n",
              "      <td>1.476683</td>\n",
              "      <td>2.700708</td>\n",
              "      <td>12.535150</td>\n",
              "    </tr>\n",
              "    <tr>\n",
              "      <th>min</th>\n",
              "      <td>5.000000</td>\n",
              "      <td>0.006320</td>\n",
              "      <td>30.460000</td>\n",
              "      <td>0.385000</td>\n",
              "      <td>3.561000</td>\n",
              "      <td>2.900000</td>\n",
              "      <td>1.130000</td>\n",
              "      <td>0.920000</td>\n",
              "      <td>1.150000</td>\n",
              "      <td>0.730000</td>\n",
              "      <td>18.000000</td>\n",
              "      <td>1.730000</td>\n",
              "      <td>5.268000</td>\n",
              "      <td>10.057600</td>\n",
              "      <td>3.000000</td>\n",
              "    </tr>\n",
              "    <tr>\n",
              "      <th>25%</th>\n",
              "      <td>17.025000</td>\n",
              "      <td>0.080573</td>\n",
              "      <td>35.145000</td>\n",
              "      <td>0.449000</td>\n",
              "      <td>5.885500</td>\n",
              "      <td>44.550000</td>\n",
              "      <td>2.270000</td>\n",
              "      <td>1.940000</td>\n",
              "      <td>2.232500</td>\n",
              "      <td>1.940000</td>\n",
              "      <td>19.800000</td>\n",
              "      <td>6.905000</td>\n",
              "      <td>6.634500</td>\n",
              "      <td>11.189800</td>\n",
              "      <td>28.000000</td>\n",
              "    </tr>\n",
              "    <tr>\n",
              "      <th>50%</th>\n",
              "      <td>21.200000</td>\n",
              "      <td>0.253715</td>\n",
              "      <td>39.690000</td>\n",
              "      <td>0.538000</td>\n",
              "      <td>6.210000</td>\n",
              "      <td>77.150000</td>\n",
              "      <td>3.405000</td>\n",
              "      <td>3.050000</td>\n",
              "      <td>3.395000</td>\n",
              "      <td>3.105000</td>\n",
              "      <td>20.950000</td>\n",
              "      <td>11.300000</td>\n",
              "      <td>7.999000</td>\n",
              "      <td>13.048800</td>\n",
              "      <td>40.000000</td>\n",
              "    </tr>\n",
              "    <tr>\n",
              "      <th>75%</th>\n",
              "      <td>25.000000</td>\n",
              "      <td>3.647422</td>\n",
              "      <td>48.100000</td>\n",
              "      <td>0.624000</td>\n",
              "      <td>6.623500</td>\n",
              "      <td>94.100000</td>\n",
              "      <td>5.400000</td>\n",
              "      <td>5.000000</td>\n",
              "      <td>5.417500</td>\n",
              "      <td>5.005000</td>\n",
              "      <td>22.600000</td>\n",
              "      <td>16.930000</td>\n",
              "      <td>9.088000</td>\n",
              "      <td>14.169400</td>\n",
              "      <td>50.750000</td>\n",
              "    </tr>\n",
              "    <tr>\n",
              "      <th>max</th>\n",
              "      <td>50.000000</td>\n",
              "      <td>88.976200</td>\n",
              "      <td>57.740000</td>\n",
              "      <td>0.871000</td>\n",
              "      <td>8.780000</td>\n",
              "      <td>100.000000</td>\n",
              "      <td>12.320000</td>\n",
              "      <td>11.930000</td>\n",
              "      <td>12.320000</td>\n",
              "      <td>11.940000</td>\n",
              "      <td>27.400000</td>\n",
              "      <td>37.970000</td>\n",
              "      <td>10.876000</td>\n",
              "      <td>46.200000</td>\n",
              "      <td>60.000000</td>\n",
              "    </tr>\n",
              "  </tbody>\n",
              "</table>\n",
              "</div>"
            ],
            "text/plain": [
              "            price  crime_rate  resid_area  ...  n_hos_beds  n_hot_rooms    rainfall\n",
              "count  498.000000  498.000000  498.000000  ...  498.000000   498.000000  498.000000\n",
              "mean    22.578715    3.588968   41.126526  ...    7.899767    12.867407   39.305221\n",
              "std      9.191142    8.605442    6.881695  ...    1.476683     2.700708   12.535150\n",
              "min      5.000000    0.006320   30.460000  ...    5.268000    10.057600    3.000000\n",
              "25%     17.025000    0.080573   35.145000  ...    6.634500    11.189800   28.000000\n",
              "50%     21.200000    0.253715   39.690000  ...    7.999000    13.048800   40.000000\n",
              "75%     25.000000    3.647422   48.100000  ...    9.088000    14.169400   50.750000\n",
              "max     50.000000   88.976200   57.740000  ...   10.876000    46.200000   60.000000\n",
              "\n",
              "[8 rows x 15 columns]"
            ]
          },
          "metadata": {
            "tags": []
          },
          "execution_count": 18
        }
      ]
    },
    {
      "cell_type": "code",
      "metadata": {
        "colab": {
          "base_uri": "https://localhost:8080/"
        },
        "id": "0Hl-Axa0j9sm",
        "outputId": "3cb91da8-fabd-4610-f9d4-68cd18322671"
      },
      "source": [
        "df.info() # aqui euna ves podemo ver que todas las columnas tienen 498 datos y no hay faltantes"
      ],
      "execution_count": null,
      "outputs": [
        {
          "output_type": "stream",
          "text": [
            "<class 'pandas.core.frame.DataFrame'>\n",
            "Int64Index: 498 entries, 0 to 505\n",
            "Data columns (total 17 columns):\n",
            " #   Column       Non-Null Count  Dtype  \n",
            "---  ------       --------------  -----  \n",
            " 0   price        498 non-null    float64\n",
            " 1   crime_rate   498 non-null    float64\n",
            " 2   resid_area   498 non-null    float64\n",
            " 3   air_qual     498 non-null    float64\n",
            " 4   room_num     498 non-null    float64\n",
            " 5   age          498 non-null    float64\n",
            " 6   dist1        498 non-null    float64\n",
            " 7   dist2        498 non-null    float64\n",
            " 8   dist3        498 non-null    float64\n",
            " 9   dist4        498 non-null    float64\n",
            " 10  teachers     498 non-null    float64\n",
            " 11  poor_prop    498 non-null    float64\n",
            " 12  airport      498 non-null    object \n",
            " 13  n_hos_beds   498 non-null    float64\n",
            " 14  n_hot_rooms  498 non-null    float64\n",
            " 15  waterbody    498 non-null    object \n",
            " 16  rainfall     498 non-null    int64  \n",
            "dtypes: float64(14), int64(1), object(2)\n",
            "memory usage: 90.0+ KB\n"
          ],
          "name": "stdout"
        }
      ]
    },
    {
      "cell_type": "markdown",
      "metadata": {
        "id": "bC-258qph3oT"
      },
      "source": [
        "# Imputacion de valores perdidos\n",
        "\n",
        "soluciones, remover columnas o imputar valores perdidos"
      ]
    },
    {
      "cell_type": "code",
      "metadata": {
        "colab": {
          "base_uri": "https://localhost:8080/"
        },
        "id": "ho-wVgE3d93Z",
        "outputId": "e89c2e58-7d6c-426f-dcf2-85ceb83a86ad"
      },
      "source": [
        "df.isnull().sum().sort_values(ascending=False,) #  para ver el Número de datos ausentes por variable"
      ],
      "execution_count": null,
      "outputs": [
        {
          "output_type": "execute_result",
          "data": {
            "text/plain": [
              "rainfall       0\n",
              "dist2          0\n",
              "crime_rate     0\n",
              "resid_area     0\n",
              "air_qual       0\n",
              "room_num       0\n",
              "age            0\n",
              "dist1          0\n",
              "dist3          0\n",
              "waterbody      0\n",
              "dist4          0\n",
              "teachers       0\n",
              "poor_prop      0\n",
              "airport        0\n",
              "n_hos_beds     0\n",
              "n_hot_rooms    0\n",
              "price          0\n",
              "dtype: int64"
            ]
          },
          "metadata": {
            "tags": []
          },
          "execution_count": 20
        }
      ]
    },
    {
      "cell_type": "code",
      "metadata": {
        "colab": {
          "base_uri": "https://localhost:8080/",
          "height": 384
        },
        "id": "Bt_AN2x-d99u",
        "outputId": "d4562eab-3873-40dc-8abb-af9220f31f0c"
      },
      "source": [
        "# para ver mejor la cantidad de valores perdidos de estas columnas\n",
        "# totalesR=df.isna().sum().sort_values(ascending=False)\n",
        "# plt.figure(figsize=(15,8))\n",
        "# totalesR.plot.bar()\n",
        "# plt.show()"
      ],
      "execution_count": null,
      "outputs": [
        {
          "output_type": "display_data",
          "data": {
            "image/png": "[encoded data removed]",
            "text/plain": [
              "<Figure size 1080x576 with 1 Axes>"
            ]
          },
          "metadata": {
            "tags": [],
            "needs_background": "light"
          }
        }
      ]
    },
    {
      "cell_type": "code",
      "metadata": {
        "id": "p45S1zK7k6pU"
      },
      "source": [
        "# una forma de imputar valores perdidos\n",
        "# from sklearn.impute import SimpleImputer\n",
        "# imp=SimpleImputer(missing_values=np.NaN,strategy='most_frequent')\n",
        "# x=dfA[['n_hos_beds']]\n",
        "# dfA['n_hos_beds']=imp.fit_transform(x)\n",
        "\n",
        "# otra forma seria\n",
        "\n",
        "# df.n_hos_beds= df.n_hos_beds.fillna(df.n_hos_beds.mean())\n",
        "\n",
        "# o de este modo\n",
        "\n",
        "# df= df.fillna(df..mean())"
      ],
      "execution_count": null,
      "outputs": []
    },
    {
      "cell_type": "code",
      "metadata": {
        "colab": {
          "base_uri": "https://localhost:8080/"
        },
        "id": "ZgyH3-Pslg7z",
        "outputId": "443d0b58-1984-400b-ec89-561d794270f5"
      },
      "source": [
        "# estacionaidada Mmonth = mu_year / mu_month"
      ],
      "execution_count": null,
      "outputs": [
        {
          "output_type": "stream",
          "text": [
            "<class 'pandas.core.frame.DataFrame'>\n",
            "Int64Index: 498 entries, 0 to 505\n",
            "Data columns (total 17 columns):\n",
            " #   Column       Non-Null Count  Dtype  \n",
            "---  ------       --------------  -----  \n",
            " 0   price        498 non-null    float64\n",
            " 1   crime_rate   498 non-null    float64\n",
            " 2   resid_area   498 non-null    float64\n",
            " 3   air_qual     498 non-null    float64\n",
            " 4   room_num     498 non-null    float64\n",
            " 5   age          498 non-null    float64\n",
            " 6   dist1        498 non-null    float64\n",
            " 7   dist2        498 non-null    float64\n",
            " 8   dist3        498 non-null    float64\n",
            " 9   dist4        498 non-null    float64\n",
            " 10  teachers     498 non-null    float64\n",
            " 11  poor_prop    498 non-null    float64\n",
            " 12  airport      498 non-null    object \n",
            " 13  n_hos_beds   498 non-null    float64\n",
            " 14  n_hot_rooms  498 non-null    float64\n",
            " 15  waterbody    498 non-null    object \n",
            " 16  rainfall     498 non-null    int64  \n",
            "dtypes: float64(14), int64(1), object(2)\n",
            "memory usage: 90.0+ KB\n"
          ],
          "name": "stdout"
        }
      ]
    },
    {
      "cell_type": "code",
      "metadata": {
        "colab": {
          "base_uri": "https://localhost:8080/",
          "height": 666
        },
        "id": "EF1QW3vVyDcL",
        "outputId": "0edb8721-7c1f-47a1-a3b6-0bc87d78c6f9"
      },
      "source": [
        "sns.jointplot(x='crime_rate',y='price',data=df,kind='scatter',height=10, ratio=3,) #kind : { \"scatter\" | \"kde\" | \"hist\" | \"hex\" | \"reg\" | \"resid\" }"
      ],
      "execution_count": null,
      "outputs": [
        {
          "output_type": "execute_result",
          "data": {
            "text/plain": [
              "<seaborn.axisgrid.JointGrid at 0x7ff9a80e04d0>"
            ]
          },
          "metadata": {
            "tags": []
          },
          "execution_count": 26
        },
        {
          "output_type": "display_data",
          "data": {
            "image/png": "[encoded data removed]",
            "text/plain": [
              "<Figure size 720x720 with 3 Axes>"
            ]
          },
          "metadata": {
            "tags": [],
            "needs_background": "light"
          }
        }
      ]
    },
    {
      "cell_type": "code",
      "metadata": {
        "id": "iQinuugFycAQ"
      },
      "source": [
        "df.crime_rate= np.log(1+df.crime_rate)"
      ],
      "execution_count": null,
      "outputs": []
    },
    {
      "cell_type": "code",
      "metadata": {
        "colab": {
          "base_uri": "https://localhost:8080/",
          "height": 666
        },
        "id": "-MxANFchyuZm",
        "outputId": "b2bb854f-08cc-4f35-db04-675a07845268"
      },
      "source": [
        "sns.jointplot(x='crime_rate',y='price',data=df,kind='scatter',height=10, ratio=3,) #kind : { \"scatter\" | \"kde\" | \"hist\" | \"hex\" | \"reg\" | \"resid\" }"
      ],
      "execution_count": null,
      "outputs": [
        {
          "output_type": "execute_result",
          "data": {
            "text/plain": [
              "<seaborn.axisgrid.JointGrid at 0x7ff9a7f07990>"
            ]
          },
          "metadata": {
            "tags": []
          },
          "execution_count": 28
        },
        {
          "output_type": "display_data",
          "data": {
            "image/png": "[encoded data removed]",
            "text/plain": [
              "<Figure size 720x720 with 3 Axes>"
            ]
          },
          "metadata": {
            "tags": [],
            "needs_background": "light"
          }
        }
      ]
    },
    {
      "cell_type": "code",
      "metadata": {
        "id": "Yotq3LJ8zA-B"
      },
      "source": [
        "# creacion nueva variable\n",
        "df['avg_dist']=(df.dist1+df.dist2+df.dist3+df.dist4)/4"
      ],
      "execution_count": null,
      "outputs": []
    },
    {
      "cell_type": "code",
      "metadata": {
        "colab": {
          "base_uri": "https://localhost:8080/",
          "height": 314
        },
        "id": "d9m3PcIezi3Q",
        "outputId": "5198eee1-6713-46fa-fa7b-3a622df9f7e7"
      },
      "source": [
        "df.describe()"
      ],
      "execution_count": null,
      "outputs": [
        {
          "output_type": "execute_result",
          "data": {
            "text/html": [
              "<div>\n",
              "<style scoped>\n",
              "    .dataframe tbody tr th:only-of-type {\n",
              "        vertical-align: middle;\n",
              "    }\n",
              "\n",
              "    .dataframe tbody tr th {\n",
              "        vertical-align: top;\n",
              "    }\n",
              "\n",
              "    .dataframe thead th {\n",
              "        text-align: right;\n",
              "    }\n",
              "</style>\n",
              "<table border=\"1\" class=\"dataframe\">\n",
              "  <thead>\n",
              "    <tr style=\"text-align: right;\">\n",
              "      <th></th>\n",
              "      <th>price</th>\n",
              "      <th>crime_rate</th>\n",
              "      <th>resid_area</th>\n",
              "      <th>air_qual</th>\n",
              "      <th>room_num</th>\n",
              "      <th>age</th>\n",
              "      <th>dist1</th>\n",
              "      <th>dist2</th>\n",
              "      <th>dist3</th>\n",
              "      <th>dist4</th>\n",
              "      <th>teachers</th>\n",
              "      <th>poor_prop</th>\n",
              "      <th>n_hos_beds</th>\n",
              "      <th>n_hot_rooms</th>\n",
              "      <th>rainfall</th>\n",
              "      <th>avg_dist</th>\n",
              "    </tr>\n",
              "  </thead>\n",
              "  <tbody>\n",
              "    <tr>\n",
              "      <th>count</th>\n",
              "      <td>498.000000</td>\n",
              "      <td>498.000000</td>\n",
              "      <td>498.000000</td>\n",
              "      <td>498.000000</td>\n",
              "      <td>498.000000</td>\n",
              "      <td>498.000000</td>\n",
              "      <td>498.000000</td>\n",
              "      <td>498.000000</td>\n",
              "      <td>498.000000</td>\n",
              "      <td>498.000000</td>\n",
              "      <td>498.000000</td>\n",
              "      <td>498.000000</td>\n",
              "      <td>498.000000</td>\n",
              "      <td>498.000000</td>\n",
              "      <td>498.000000</td>\n",
              "      <td>498.000000</td>\n",
              "    </tr>\n",
              "    <tr>\n",
              "      <th>mean</th>\n",
              "      <td>22.578715</td>\n",
              "      <td>0.809517</td>\n",
              "      <td>41.126526</td>\n",
              "      <td>0.553869</td>\n",
              "      <td>6.287412</td>\n",
              "      <td>68.464056</td>\n",
              "      <td>3.985221</td>\n",
              "      <td>3.641988</td>\n",
              "      <td>3.973394</td>\n",
              "      <td>3.630462</td>\n",
              "      <td>21.541165</td>\n",
              "      <td>12.599116</td>\n",
              "      <td>7.899767</td>\n",
              "      <td>12.867407</td>\n",
              "      <td>39.305221</td>\n",
              "      <td>3.807766</td>\n",
              "    </tr>\n",
              "    <tr>\n",
              "      <th>std</th>\n",
              "      <td>9.191142</td>\n",
              "      <td>1.019856</td>\n",
              "      <td>6.881695</td>\n",
              "      <td>0.115869</td>\n",
              "      <td>0.703900</td>\n",
              "      <td>28.253422</td>\n",
              "      <td>2.112560</td>\n",
              "      <td>2.113405</td>\n",
              "      <td>2.125105</td>\n",
              "      <td>2.104930</td>\n",
              "      <td>2.162552</td>\n",
              "      <td>7.152105</td>\n",
              "      <td>1.476683</td>\n",
              "      <td>2.700708</td>\n",
              "      <td>12.535150</td>\n",
              "      <td>2.110826</td>\n",
              "    </tr>\n",
              "    <tr>\n",
              "      <th>min</th>\n",
              "      <td>5.000000</td>\n",
              "      <td>0.006300</td>\n",
              "      <td>30.460000</td>\n",
              "      <td>0.385000</td>\n",
              "      <td>3.561000</td>\n",
              "      <td>2.900000</td>\n",
              "      <td>1.130000</td>\n",
              "      <td>0.920000</td>\n",
              "      <td>1.150000</td>\n",
              "      <td>0.730000</td>\n",
              "      <td>18.000000</td>\n",
              "      <td>1.730000</td>\n",
              "      <td>5.268000</td>\n",
              "      <td>10.057600</td>\n",
              "      <td>3.000000</td>\n",
              "      <td>1.127500</td>\n",
              "    </tr>\n",
              "    <tr>\n",
              "      <th>25%</th>\n",
              "      <td>17.025000</td>\n",
              "      <td>0.077491</td>\n",
              "      <td>35.145000</td>\n",
              "      <td>0.449000</td>\n",
              "      <td>5.885500</td>\n",
              "      <td>44.550000</td>\n",
              "      <td>2.270000</td>\n",
              "      <td>1.940000</td>\n",
              "      <td>2.232500</td>\n",
              "      <td>1.940000</td>\n",
              "      <td>19.800000</td>\n",
              "      <td>6.905000</td>\n",
              "      <td>6.634500</td>\n",
              "      <td>11.189800</td>\n",
              "      <td>28.000000</td>\n",
              "      <td>2.100625</td>\n",
              "    </tr>\n",
              "    <tr>\n",
              "      <th>50%</th>\n",
              "      <td>21.200000</td>\n",
              "      <td>0.226111</td>\n",
              "      <td>39.690000</td>\n",
              "      <td>0.538000</td>\n",
              "      <td>6.210000</td>\n",
              "      <td>77.150000</td>\n",
              "      <td>3.405000</td>\n",
              "      <td>3.050000</td>\n",
              "      <td>3.395000</td>\n",
              "      <td>3.105000</td>\n",
              "      <td>20.950000</td>\n",
              "      <td>11.300000</td>\n",
              "      <td>7.999000</td>\n",
              "      <td>13.048800</td>\n",
              "      <td>40.000000</td>\n",
              "      <td>3.240000</td>\n",
              "    </tr>\n",
              "    <tr>\n",
              "      <th>75%</th>\n",
              "      <td>25.000000</td>\n",
              "      <td>1.536265</td>\n",
              "      <td>48.100000</td>\n",
              "      <td>0.624000</td>\n",
              "      <td>6.623500</td>\n",
              "      <td>94.100000</td>\n",
              "      <td>5.400000</td>\n",
              "      <td>5.000000</td>\n",
              "      <td>5.417500</td>\n",
              "      <td>5.005000</td>\n",
              "      <td>22.600000</td>\n",
              "      <td>16.930000</td>\n",
              "      <td>9.088000</td>\n",
              "      <td>14.169400</td>\n",
              "      <td>50.750000</td>\n",
              "      <td>5.213750</td>\n",
              "    </tr>\n",
              "    <tr>\n",
              "      <th>max</th>\n",
              "      <td>50.000000</td>\n",
              "      <td>4.499545</td>\n",
              "      <td>57.740000</td>\n",
              "      <td>0.871000</td>\n",
              "      <td>8.780000</td>\n",
              "      <td>100.000000</td>\n",
              "      <td>12.320000</td>\n",
              "      <td>11.930000</td>\n",
              "      <td>12.320000</td>\n",
              "      <td>11.940000</td>\n",
              "      <td>27.400000</td>\n",
              "      <td>37.970000</td>\n",
              "      <td>10.876000</td>\n",
              "      <td>46.200000</td>\n",
              "      <td>60.000000</td>\n",
              "      <td>12.127500</td>\n",
              "    </tr>\n",
              "  </tbody>\n",
              "</table>\n",
              "</div>"
            ],
            "text/plain": [
              "            price  crime_rate  resid_area  ...  n_hot_rooms    rainfall    avg_dist\n",
              "count  498.000000  498.000000  498.000000  ...   498.000000  498.000000  498.000000\n",
              "mean    22.578715    0.809517   41.126526  ...    12.867407   39.305221    3.807766\n",
              "std      9.191142    1.019856    6.881695  ...     2.700708   12.535150    2.110826\n",
              "min      5.000000    0.006300   30.460000  ...    10.057600    3.000000    1.127500\n",
              "25%     17.025000    0.077491   35.145000  ...    11.189800   28.000000    2.100625\n",
              "50%     21.200000    0.226111   39.690000  ...    13.048800   40.000000    3.240000\n",
              "75%     25.000000    1.536265   48.100000  ...    14.169400   50.750000    5.213750\n",
              "max     50.000000    4.499545   57.740000  ...    46.200000   60.000000   12.127500\n",
              "\n",
              "[8 rows x 16 columns]"
            ]
          },
          "metadata": {
            "tags": []
          },
          "execution_count": 30
        }
      ]
    },
    {
      "cell_type": "code",
      "metadata": {
        "id": "8GF7_uOOzBEj"
      },
      "source": [
        "# del df['dist1'] # para eliminar la columna dist1"
      ],
      "execution_count": null,
      "outputs": []
    },
    {
      "cell_type": "code",
      "metadata": {
        "id": "YOHBHEKwzBLR"
      },
      "source": [
        ""
      ],
      "execution_count": null,
      "outputs": []
    }
  ]
}