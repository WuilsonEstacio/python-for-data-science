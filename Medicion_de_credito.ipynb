{
  "nbformat": 4,
  "nbformat_minor": 0,
  "metadata": {
    "colab": {
      "name": "Medicion de credito.ipynb",
      "private_outputs": true,
      "provenance": [],
      "collapsed_sections": [],
      "authorship_tag": "ABX9TyMcsEK07uULAzVgSB4nrLJJ",
      "include_colab_link": true
    },
    "kernelspec": {
      "name": "python3",
      "display_name": "Python 3"
    },
    "language_info": {
      "name": "python"
    }
  },
  "cells": [
    {
      "cell_type": "markdown",
      "metadata": {
        "id": "view-in-github",
        "colab_type": "text"
      },
      "source": [
        "<a href=\"https://colab.research.google.com/github/WuilsonEstacio/python-for-data-science/blob/main/Medicion_de_credito.ipynb\" target=\"_parent\"><img src=\"https://colab.research.google.com/assets/colab-badge.svg\" alt=\"Open In Colab\"/></a>"
      ]
    },
    {
      "cell_type": "markdown",
      "metadata": {
        "id": "j8guuxXJdOQw"
      },
      "source": [
        "# Mediciones de crédito\n",
        "\n",
        "En este proyecto se propone la construcción de modelo predictivo que permita determinar el comportamiento de un buen o mal cliente, a partir de su historial de pago de un crédito.\n",
        "\n",
        "Para lograr esto, se parte de una base de datos anónima de una entidad bancaria. Con esta base de datos se sigue el siguiente flujo de trabajo (El flujo de trabajo se encuentra desarrolado en el archivo credit_score.ipynb ):"
      ]
    },
    {
      "cell_type": "code",
      "metadata": {
        "id": "Qt5u3rnWdNTp"
      },
      "source": [
        "import pandas as pd\n",
        "import numpy as np\n",
        "import matplotlib.pyplot as plt"
      ],
      "execution_count": null,
      "outputs": []
    },
    {
      "cell_type": "code",
      "metadata": {
        "id": "v-DQjv41dezR"
      },
      "source": [
        "df = pd.read_csv('Anonimizada_DataBase.txt', delimiter = '|', decimal=\",\")\n",
        "df.head()"
      ],
      "execution_count": null,
      "outputs": []
    },
    {
      "cell_type": "code",
      "metadata": {
        "id": "K_Bboz9ak9ls"
      },
      "source": [
        "df.info()"
      ],
      "execution_count": null,
      "outputs": []
    },
    {
      "cell_type": "markdown",
      "metadata": {
        "id": "PYWt6bZho7SK"
      },
      "source": [
        "\n",
        "Se deben hacer cambios de tipo de datos en algunas columnas. La columna Periodo, debe tener formato de fecha y las columnas Cupo y Saldo y DIAS0 deben ser tipo float."
      ]
    },
    {
      "cell_type": "code",
      "metadata": {
        "id": "vl-Sfcv9o9Xa"
      },
      "source": [
        "#Resultados en meses \n",
        "# df['periodo'] = pd.to_datetime(df['periodo'], format='%Y%m', errors='coerce').dt.to_period('m')\n",
        "df['periodo'] = pd.to_datetime(df['periodo'], format='%Y%m', errors='coerce')"
      ],
      "execution_count": null,
      "outputs": []
    },
    {
      "cell_type": "code",
      "metadata": {
        "id": "bhqILz0XwpMd"
      },
      "source": [
        "# convertiremos las columnas tipo objet a float\n",
        "columns = ['Cupo', 'Saldo_Mora1', 'Saldo_Mora2', 'Saldo_Mora3', 'Saldo_Mora4', \n",
        "           'Saldo_Mora5', 'Saldo_Mora6', 'Saldo1', 'Saldo2', 'Saldo3', 'Saldo4', \n",
        "           'Saldo5', 'Saldo6']\n",
        "for colum in columns:\n",
        "    df[colum] = pd.to_numeric(df[colum], downcast='float', errors = 'coerce').astype(float)"
      ],
      "execution_count": null,
      "outputs": []
    },
    {
      "cell_type": "code",
      "metadata": {
        "id": "8gankiAIxZjA"
      },
      "source": [
        "# convertiremos la columna dia0 en flotante\n",
        "df['DIAS0'] = df['DIAS0'].astype(float)"
      ],
      "execution_count": null,
      "outputs": []
    },
    {
      "cell_type": "code",
      "metadata": {
        "id": "mUSXoZIpx5CM"
      },
      "source": [
        "# para ver que tipo de variables tiene las columnas\n",
        "categori_columna_x=df.GENERO.unique()\n",
        "categori_columna_x"
      ],
      "execution_count": null,
      "outputs": []
    },
    {
      "cell_type": "code",
      "metadata": {
        "id": "nuDO5TaUxqSk"
      },
      "source": [
        "df.info()"
      ],
      "execution_count": null,
      "outputs": []
    },
    {
      "cell_type": "markdown",
      "metadata": {
        "id": "6J38G60zyfw6"
      },
      "source": [
        "Index. Se define el index de la base de datos con la columna Identificador. Las entradas de campo deben ser únicas, así que se deben hacer un filtrado"
      ]
    },
    {
      "cell_type": "code",
      "metadata": {
        "id": "1qrRmXShydgm"
      },
      "source": [
        "# se observa la cantidad de datos de entrada en el id\n",
        "print('Se tienen', df['Identificador'].count(), 'entradas.')"
      ],
      "execution_count": null,
      "outputs": []
    },
    {
      "cell_type": "code",
      "metadata": {
        "id": "3XnAcn-JyjPw"
      },
      "source": [
        "#  se mira cuales no estan repetidas\n",
        "print('Solo', df['Identificador'].nunique(), 'don únicas')"
      ],
      "execution_count": null,
      "outputs": []
    },
    {
      "cell_type": "code",
      "metadata": {
        "id": "gSScopFmy6f7"
      },
      "source": [
        "# Se Eliminan datos repetidos\n",
        "df = df.drop_duplicates(subset=['Identificador'],  keep= False)"
      ],
      "execution_count": null,
      "outputs": []
    },
    {
      "cell_type": "code",
      "metadata": {
        "id": "V8vTZZ7cy6oI"
      },
      "source": [
        "# se confirma la cantidad de datos de entrada\n",
        "print('Se tienen', df['Identificador'].count(), 'entradas.')"
      ],
      "execution_count": null,
      "outputs": []
    },
    {
      "cell_type": "code",
      "metadata": {
        "id": "SCYBkgkNy6t6"
      },
      "source": [
        "# se confirma la cantidad de datos no repetidos como son iguales no hay datos repetidos\n",
        "print('Solo', df['Identificador'].nunique(), 'don únicas')"
      ],
      "execution_count": null,
      "outputs": []
    },
    {
      "cell_type": "code",
      "metadata": {
        "id": "Tw_BOL7AzYDl"
      },
      "source": [
        "#Se elije la comuna Identificador como Index \n",
        "df = df.set_index('Identificador')"
      ],
      "execution_count": null,
      "outputs": []
    },
    {
      "cell_type": "code",
      "metadata": {
        "id": "d08_hhAMz3ok"
      },
      "source": [
        "#Se eliminan entradas con valores Nan\n",
        "df = df.dropna()"
      ],
      "execution_count": null,
      "outputs": []
    },
    {
      "cell_type": "code",
      "metadata": {
        "id": "yFC7OGcpo9dB"
      },
      "source": [
        "df.head()"
      ],
      "execution_count": null,
      "outputs": []
    },
    {
      "cell_type": "code",
      "metadata": {
        "id": "03sGxAfmk-l6"
      },
      "source": [
        "# para ver el Número de datos ausentes por variable\n",
        "df.isnull().sum().sort_values(ascending=False,)[:21]"
      ],
      "execution_count": null,
      "outputs": []
    },
    {
      "cell_type": "code",
      "metadata": {
        "id": "1Ea9t-CG0Kc9"
      },
      "source": [
        "#Información de Data Set\n",
        "df.info()"
      ],
      "execution_count": null,
      "outputs": []
    },
    {
      "cell_type": "code",
      "metadata": {
        "id": "DAShT6Px0Sz_"
      },
      "source": [
        "# observamos longitud de la base de datos\n",
        "print('La base de datos tiene:', len(df), 'entradas.')"
      ],
      "execution_count": null,
      "outputs": []
    },
    {
      "cell_type": "markdown",
      "metadata": {
        "id": "WZmrdjwi0kQq"
      },
      "source": [
        "\n",
        "# 2. Descriptive Statistics"
      ]
    },
    {
      "cell_type": "code",
      "metadata": {
        "id": "neyBJ5920ZXS"
      },
      "source": [
        "df.describe()"
      ],
      "execution_count": null,
      "outputs": []
    },
    {
      "cell_type": "code",
      "metadata": {
        "id": "3E1Mvo6VodkS"
      },
      "source": [
        "df.describe().T"
      ],
      "execution_count": null,
      "outputs": []
    },
    {
      "cell_type": "code",
      "metadata": {
        "id": "MlVPIG_c00Ws"
      },
      "source": [
        "# df_features = pd.DataFrame([])\n",
        "# Miramos Saldo promedio de los ultimos 6 meses, con la media aritmetica de cada fila\n",
        "df_features['Saldo_Promedio'] = df[['Saldo1','Saldo2','Saldo3','Saldo4','Saldo5','Saldo6']].mean(axis=1)"
      ],
      "execution_count": null,
      "outputs": []
    },
    {
      "cell_type": "code",
      "metadata": {
        "id": "nrZhMVyF1dfb"
      },
      "source": [
        "df_features['Flag_Genero'] = df.GENERO.eq('F').mul(1)"
      ],
      "execution_count": null,
      "outputs": []
    },
    {
      "cell_type": "markdown",
      "metadata": {
        "id": "1vBlm5Rk1toy"
      },
      "source": [
        "# Porcentaje promedio de saldo en mora con respecto al cupo en los 6 meses."
      ]
    },
    {
      "cell_type": "code",
      "metadata": {
        "id": "UB9nBi5L1uWc"
      },
      "source": [
        "s_m_prom = df[['Saldo_Mora1','Saldo_Mora2','Saldo_Mora3','Saldo_Mora4','Saldo_Mora5','Saldo_Mora6']].mean(axis=1)\n",
        "df_features['Porc_prom_Saldo_mora'] = s_m_prom/ df['Cupo']\n",
        "#Cuando s_m_max es 0 significa que no tiene saldo de mora, por lo tanto el porcentaje promedio de saldo \n",
        "#en mora es 0\n",
        "df_features['Porc_prom_Saldo_mora'].replace([np.inf, -np.inf], np.nan, inplace=True)\n",
        "df_features['Porc_prom_Saldo_mora'] = df_features['Porc_prom_Saldo_mora'].fillna(0)*100"
      ],
      "execution_count": null,
      "outputs": []
    },
    {
      "cell_type": "code",
      "metadata": {
        "id": "6eE483Dj1ult"
      },
      "source": [
        "s_m_max = df[['Saldo_Mora1','Saldo_Mora2','Saldo_Mora3','Saldo_Mora4','Saldo_Mora5','Saldo_Mora6']].max(axis=1)\n",
        "df_features['Porc_max_Saldo_mora'] = s_m_prom/ df['Cupo']\n",
        "#Cuando s_m_max es 0 significa que no tiene saldo de mora, por lo tanto el porcentaje promedio de saldo \n",
        "#en mora es 0\n",
        "df_features['Porc_max_Saldo_mora'].replace([np.inf, -np.inf], np.nan, inplace=True)\n",
        "df_features['Porc_max_Saldo_mora'] = df_features['Porc_max_Saldo_mora'].fillna(0)*100"
      ],
      "execution_count": null,
      "outputs": []
    },
    {
      "cell_type": "code",
      "metadata": {
        "id": "oFZNH8Ei24Gl"
      },
      "source": [
        "#Cuando s_m_max es 0 significa que no tiene saldo de mora, por lo tanto el porcentaje promedio de saldo \n",
        "#en mora es 0\n",
        "df_features['Porc_prom_Saldo_mora'].replace([np.inf, -np.inf], np.nan, inplace=True)\n",
        "df_features['Porc_prom_Saldo_mora'] = df_features['Porc_prom_Saldo_mora'].fillna(0)*100"
      ],
      "execution_count": null,
      "outputs": []
    },
    {
      "cell_type": "markdown",
      "metadata": {
        "id": "KJX3d1vn4Ycd"
      },
      "source": [
        "\n",
        "# Utilización máxima de los últimos 6 meses\n",
        "Se calcula la utilización de la cuenta como Saldo/Cupo."
      ]
    },
    {
      "cell_type": "code",
      "metadata": {
        "id": "G5lh2awl4XTr"
      },
      "source": [
        "df['util_max_seis'] = df['Saldo6'] / df['Cupo'] # se hacen los calculo\n",
        "df['util_max_seis'].replace([np.inf, -np.inf], np.nan, inplace=True) # se realizan los remplazos\n",
        "df['util_max_seis'] = df['util_max_seis'].fillna(0) # se crea nueva columna"
      ],
      "execution_count": null,
      "outputs": []
    },
    {
      "cell_type": "markdown",
      "metadata": {
        "id": "jiQZ_TULNd8X"
      },
      "source": [
        "# Cupo promedio de los primeros 3 meses\n",
        "Se calcula como Cupo/Número_Productos."
      ]
    },
    {
      "cell_type": "code",
      "metadata": {
        "id": "RQYflpEpNdJt"
      },
      "source": [
        "df_features['Cupo_prom'] = df['Cupo']/df['Numero_Producto']"
      ],
      "execution_count": null,
      "outputs": []
    },
    {
      "cell_type": "markdown",
      "metadata": {
        "id": "98jEzl_ZOBpk"
      },
      "source": [
        "Antigüedad de la obligación en meses a 2019-08"
      ]
    },
    {
      "cell_type": "code",
      "metadata": {
        "id": "LxU3-8jgODcI"
      },
      "source": [
        "df['date'] = 201908\n",
        "df['date'] = pd.to_datetime(df['date'], format='%Y%m', errors='coerce')"
      ],
      "execution_count": null,
      "outputs": []
    },
    {
      "cell_type": "code",
      "metadata": {
        "id": "PWcuZArSOgwd"
      },
      "source": [
        "# https://numpy.org/doc/stable/reference/arrays.datetime.html\n",
        "df_features['Antiguedad'] = ((df.date - df.periodo)/np.timedelta64(1, 'M'))"
      ],
      "execution_count": null,
      "outputs": []
    },
    {
      "cell_type": "markdown",
      "metadata": {
        "id": "Gm50YdHUPitb"
      },
      "source": [
        "# Segmentation Class\n",
        "Se crean dos etiquetas para los clientes tomando 0 como clientes buenos y 1 como clientes malos"
      ]
    },
    {
      "cell_type": "code",
      "metadata": {
        "id": "WwW1IOcbPl2K"
      },
      "source": [
        "#Clientes que que luego de los 6 meses hayan alcanzado un máximo de 30 días en mora\n",
        "df_features['Tipo_Cliente_1'] = 0 #creamos casillas basias"
      ],
      "execution_count": null,
      "outputs": []
    },
    {
      "cell_type": "markdown",
      "metadata": {
        "id": "axQHrvJKSU0y"
      },
      "source": [
        "DataFrame.iat\n",
        "Acceda a un solo valor para un par de filas / columnas por posición entera.\n",
        "\n",
        "DataFrame.loc\n",
        "Acceda a un grupo de filas y columnas por etiqueta (s).\n",
        "\n",
        "Series.at\n",
        "Acceda a un único valor mediante una etiqueta. eg: df.at[fila, 'columna']\n",
        "\n",
        "https://pandas.pydata.org/docs/reference/api/pandas.DataFrame.at.html"
      ]
    },
    {
      "cell_type": "code",
      "metadata": {
        "id": "M3eTukHpRpnB"
      },
      "source": [
        "for i, cli in enumerate(df_features['Tipo_Cliente_1']):\n",
        "    ix = df_features['Tipo_Cliente_1'].index[i]\n",
        "    if df.at[ix, 'DIAS6']  > 30:  # cogemos los calores de las filas ix y columnas Dias6 y selecionamos los que tengan mas de 30 dias\n",
        "        df_features.at[ix, 'Tipo_Cliente_1'] = 1\n",
        "\n",
        "df_features['Tipo_Cliente_1'].value_counts()"
      ],
      "execution_count": null,
      "outputs": []
    },
    {
      "cell_type": "markdown",
      "metadata": {
        "id": "j3NSXeQGUuEn"
      },
      "source": [
        "esto quiere decir que de 781 clientes  731 se precentan como clientes buenos y 50 de estos ya tienes un maximo de 30 dias en mora.\n",
        "\n",
        "en la siguiente 740 clientes des pues de 6 meses no tienen mas de 90 dias de mora pero 42 clientes tienes 41 dias de mora"
      ]
    },
    {
      "cell_type": "code",
      "metadata": {
        "id": "53MuqKkjUA0l"
      },
      "source": [
        "#Clientes que que luego de los 6 meses hayan alcanzado un máximo de 90 días en mora.\n",
        "df_features['Tipo_Cliente_2'] = 0\n",
        "\n",
        "for i, cli in enumerate(df_features['Tipo_Cliente_2']):\n",
        "    ix = df_features['Tipo_Cliente_2'].index[i]\n",
        "    if df.at[ix, 'DIAS6']  >= 90:\n",
        "        df_features.at[ix, 'Tipo_Cliente_2'] = 1\n",
        "\n",
        "df_features['Tipo_Cliente_2'].value_counts()"
      ],
      "execution_count": null,
      "outputs": []
    },
    {
      "cell_type": "code",
      "metadata": {
        "id": "Y0CZiMWzUA77"
      },
      "source": [
        "#Clientes que que luego de los 6 meses hayan alcanzado un máximo de 180 días en mora.\n",
        "df_features['Tipo_Cliente_3'] = 0\n",
        "\n",
        "for i, cli in enumerate(df_features['Tipo_Cliente_3']):\n",
        "    ix = df_features['Tipo_Cliente_3'].index[i]\n",
        "    if df.at[ix, 'DIAS6']  >= 180:\n",
        "        df_features.at[ix, 'Tipo_Cliente_3'] = 1\n",
        "\n",
        "df_features['Tipo_Cliente_3'].value_counts()"
      ],
      "execution_count": null,
      "outputs": []
    },
    {
      "cell_type": "code",
      "metadata": {
        "id": "MCcNwjsfUBA2"
      },
      "source": [
        "# esto nos indica los clientes que tienen mora despues de 6 meses, por ejemplo 121.0 clientes tienen 1 de mora\n",
        "D_mora=df[\"DIAS6\"].value_counts()\n",
        "print(TOTALES)\n",
        "# D_mora.plot.barh() # DataFrame.plot.barh( x = Ninguno , y = Ninguno , ** kwargs ) para graficar varras horizontales\n"
      ],
      "execution_count": null,
      "outputs": []
    },
    {
      "cell_type": "markdown",
      "metadata": {
        "id": "5Iyi_oJHXsnk"
      },
      "source": [
        "# Model Training"
      ]
    },
    {
      "cell_type": "code",
      "metadata": {
        "id": "2F9O9_7XXu6R"
      },
      "source": [
        "#Variable categorica\n",
        "y_1 = df_features['Tipo_Cliente_1'].values\n",
        "y_2 = df_features['Tipo_Cliente_2'].values\n",
        "y_3 = df_features['Tipo_Cliente_3'].values"
      ],
      "execution_count": null,
      "outputs": []
    },
    {
      "cell_type": "code",
      "metadata": {
        "id": "XyTc_k_JXvBb"
      },
      "source": [
        "features_num = len(df_features.columns)\n",
        "features_num"
      ],
      "execution_count": null,
      "outputs": []
    },
    {
      "cell_type": "code",
      "metadata": {
        "id": "Qjt8MVGtashP"
      },
      "source": [
        "#Caracterisiticas del problema \n",
        "from sklearn.preprocessing import StandardScaler\n",
        "scaler = StandardScaler()\n",
        "\n",
        "X = df_features.iloc[:,:features_num].values # selecionamos todas las columnas de df_features\n",
        "scaler.fit(X)\n",
        "X = scaler.transform(X)"
      ],
      "execution_count": null,
      "outputs": []
    },
    {
      "cell_type": "code",
      "metadata": {
        "id": "xr2QGka6XvJo"
      },
      "source": [
        "X.shape"
      ],
      "execution_count": null,
      "outputs": []
    },
    {
      "cell_type": "code",
      "metadata": {
        "id": "36jWoIyybPft"
      },
      "source": [
        "#Entranamiento del problema\n",
        "from sklearn.model_selection import train_test_split # para separacion en datos de test y entrenamiento"
      ],
      "execution_count": null,
      "outputs": []
    },
    {
      "cell_type": "code",
      "metadata": {
        "id": "ri1J6cXLbPnH"
      },
      "source": [
        "X_train_1, X_test_1, y_train_1, y_test_1 = train_test_split(X, y_1, test_size=0.33, random_state=42,\n",
        "                                                            stratify=y_1, shuffle=True)"
      ],
      "execution_count": null,
      "outputs": []
    },
    {
      "cell_type": "code",
      "metadata": {
        "id": "weniEoNGbPsw"
      },
      "source": [
        "X_train_2, X_test_2, y_train_2, y_test_2 = train_test_split(X, y_2, test_size=0.33, random_state=42,\n",
        "                                                            stratify=y_2, shuffle=True)"
      ],
      "execution_count": null,
      "outputs": []
    },
    {
      "cell_type": "code",
      "metadata": {
        "id": "YC04HnhklAjw"
      },
      "source": [
        "X_train_3, X_test_3, y_train_3, y_test_3 = train_test_split(X, y_3, test_size=0.33, random_state=42,\n",
        "                                                            stratify=y_3, shuffle=True)"
      ],
      "execution_count": null,
      "outputs": []
    },
    {
      "cell_type": "code",
      "metadata": {
        "id": "wuN3abflbt-s"
      },
      "source": [
        "grid = [i for i in range(1, 11, 1)]\n",
        "param_grid = {'C': [np.round((0.1*i), decimals =2) for i in grid]}\n",
        "print('Parameters:', param_grid)"
      ],
      "execution_count": null,
      "outputs": []
    },
    {
      "cell_type": "code",
      "metadata": {
        "id": "j2gkpyicbuF-"
      },
      "source": [
        "from sklearn.linear_model import LogisticRegression\n",
        "from sklearn.model_selection import GridSearchCV\n",
        "from sklearn.metrics import classification_report\n",
        "from sklearn.metrics import plot_confusion_matrix\n",
        "\n",
        "clf = GridSearchCV(LogisticRegression(solver= 'liblinear'), # solver : {'newton-cg', 'lbfgs', 'liblinear', 'sag', 'saga'},  default='lbfgs' Algorithm to use in the optimization problem.\n",
        "                   param_grid = param_grid, verbose=0, return_train_score=True, \n",
        "                   n_jobs=-1, cv=5)"
      ],
      "execution_count": null,
      "outputs": []
    },
    {
      "cell_type": "markdown",
      "metadata": {
        "id": "QNMZdlr5c80B"
      },
      "source": [
        "# Models Evaluation"
      ]
    },
    {
      "cell_type": "code",
      "metadata": {
        "id": "oe_7fjInc9fy"
      },
      "source": [
        "class_names = np.array(['Buen Cliente', 'Mal Cliente'])"
      ],
      "execution_count": null,
      "outputs": []
    },
    {
      "cell_type": "code",
      "metadata": {
        "id": "lQCJ3VEGc9i8"
      },
      "source": [
        "clf.fit(X_train_1, y_train_1) \n",
        "\n",
        "print('Best Params:', clf.best_params_, '\\n')\n",
        "y_pred_1 = clf.predict(X_test_1)\n",
        "print(classification_report(y_test_1, y_pred_1))\n",
        "# The support is the number of occurrences of each class in y_true"
      ],
      "execution_count": null,
      "outputs": []
    },
    {
      "cell_type": "code",
      "metadata": {
        "id": "yedlrMgbedza"
      },
      "source": [
        "from sklearn.metrics import confusion_matrix\n",
        "title = \"Confusion matrix\"\n",
        "fig, ax = plt.subplots(figsize=(8, 8))\n",
        "plot_confusion_matrix(clf, X_test_1, y_test_1,\n",
        "                      display_labels = class_names, # para las etiquetas\n",
        "                      cmap = plt.cm.Blues, # para elmapa de colores\n",
        "                      normalize = None, ax=ax)\n",
        "ax.set_title(title)\n",
        "plt.plot()\n",
        "plt.savefig(\"Confusion matrix modelo1.jpg\", bbox_inches='tight') # para guardar como jpg\n",
        "plt.savefig(\"Confusion matrix modelo1.png\", bbox_inches='tight') # para guardar como png\n",
        "# plt.savefig('results_Model_1.png', format='png', bbox_inches='tight')\n",
        "\n",
        "# A continuación se observa la matriz de confusión para el primer modelo (mora de 30 días)"
      ],
      "execution_count": null,
      "outputs": []
    },
    {
      "cell_type": "code",
      "metadata": {
        "id": "im_ZHnhkfy9e"
      },
      "source": [
        "clf.fit(X_train_2, y_train_2) \n",
        "\n",
        "print('Best Params:',clf.best_params_, '\\n')\n",
        "y_pred_2 = clf.predict(X_test_2)\n",
        "print(classification_report(y_test_2, y_pred_2))"
      ],
      "execution_count": null,
      "outputs": []
    },
    {
      "cell_type": "code",
      "metadata": {
        "id": "g9kiCw4ChbrB"
      },
      "source": [
        "fig, ax = plt.subplots(figsize=(8, 8))\n",
        "plot_confusion_matrix(clf, X_test_2, y_test_2,\n",
        "                      display_labels = class_names,\n",
        "                      cmap = plt.cm.Blues,\n",
        "                      normalize = None, ax=ax)\n",
        "ax.set_title(title)\n",
        "plt.plot()\n",
        "plt.savefig('Confusion matrix modelo2.png', format='png', bbox_inches='tight')\n",
        "\n",
        "# para el segundo modelo (mora de 90 días), se obtiene:\n",
        "# donde se optiene que el modelo predice TP 244 y FN 14"
      ],
      "execution_count": null,
      "outputs": []
    },
    {
      "cell_type": "code",
      "metadata": {
        "id": "Jn5mbEP-lh7m"
      },
      "source": [
        "clf.fit(X_train_3, y_train_3) \n",
        "\n",
        "print('Best Params:', clf.best_params_, '\\n')\n",
        "y_pred_3 = clf.predict(X_test_3)\n",
        "print(classification_report(y_test_3, y_pred_3))\n",
        "# The support is the number of occurrences of each class in y_true"
      ],
      "execution_count": null,
      "outputs": []
    },
    {
      "cell_type": "code",
      "metadata": {
        "id": "N0l0iWEhliCx"
      },
      "source": [
        "fig, ax = plt.subplots(figsize=(8, 8))\n",
        "plot_confusion_matrix(clf, X_test_3, y_test_3,\n",
        "                      display_labels = class_names,\n",
        "                      cmap = plt.cm.Blues,\n",
        "                      normalize = None, ax=ax)\n",
        "ax.set_title(title)\n",
        "plt.plot()\n",
        "plt.savefig('Confusion matrix modelo2.png', format='png', bbox_inches='tight')\n",
        "\n",
        "# Y finalmente para el tercer modelo (mora de 180 días), se obtiene:\n",
        "# donde se optiene que el modelo predice TP 249 y FN 9"
      ],
      "execution_count": null,
      "outputs": []
    },
    {
      "cell_type": "code",
      "metadata": {
        "id": "jECwopj61usZ"
      },
      "source": [
        "df.head()"
      ],
      "execution_count": null,
      "outputs": []
    },
    {
      "cell_type": "code",
      "metadata": {
        "id": "uushkJv83M29"
      },
      "source": [
        "# para ver que tipo de variables tiene las columnas\n",
        "categori_columna_x=df.DIAS6.unique()\n",
        "categori_columna_x"
      ],
      "execution_count": null,
      "outputs": []
    },
    {
      "cell_type": "code",
      "metadata": {
        "id": "viWzkPtj25nr"
      },
      "source": [
        "df_features['Porc_prom_Saldo_mora']"
      ],
      "execution_count": null,
      "outputs": []
    }
  ]
}