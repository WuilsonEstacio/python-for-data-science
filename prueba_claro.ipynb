{
  "nbformat": 4,
  "nbformat_minor": 0,
  "metadata": {
    "colab": {
      "name": "prueba_claro.ipynb",
      "private_outputs": true,
      "provenance": [],
      "collapsed_sections": [],
      "include_colab_link": true
    },
    "kernelspec": {
      "name": "python3",
      "display_name": "Python 3"
    },
    "language_info": {
      "name": "python"
    },
    "accelerator": "TPU"
  },
  "cells": [
    {
      "cell_type": "markdown",
      "metadata": {
        "id": "view-in-github",
        "colab_type": "text"
      },
      "source": [
        "<a href=\"https://colab.research.google.com/github/WuilsonEstacio/python-for-data-science/blob/main/prueba_claro.ipynb\" target=\"_parent\"><img src=\"https://colab.research.google.com/assets/colab-badge.svg\" alt=\"Open In Colab\"/></a>"
      ]
    },
    {
      "cell_type": "code",
      "metadata": {
        "id": "26n31KCaQO-s"
      },
      "source": [
        "import pandas as pd\n",
        "import numpy as np\n",
        "import matplotlib.pyplot as plt\n",
        "import matplotlib\n",
        "import matplotlib.ticker as ticker\n",
        "import seaborn as sns\n",
        "from joblib import parallel, delayed\n",
        "import math as m\n",
        "\n",
        "from datetime import datetime, timedelta\n",
        "from pandas import DataFrame"
      ],
      "execution_count": null,
      "outputs": []
    },
    {
      "cell_type": "code",
      "metadata": {
        "id": "mF2V5g-nZAeT"
      },
      "source": [
        "import pandas\n",
        "url = \"https://cocl.us/311_NYC_Dataset\"\n",
        "df = pandas.read_csv(url)\n",
        "# print(data)"
      ],
      "execution_count": null,
      "outputs": []
    },
    {
      "cell_type": "code",
      "metadata": {
        "id": "CH-JbDF2cCBU"
      },
      "source": [
        "df.shape"
      ],
      "execution_count": null,
      "outputs": []
    },
    {
      "cell_type": "code",
      "metadata": {
        "id": "WSHlLz6zZ-Sa"
      },
      "source": [
        "pd.set_option('display.max_columns', None)\n",
        "df.head(3)"
      ],
      "execution_count": null,
      "outputs": []
    },
    {
      "cell_type": "code",
      "metadata": {
        "id": "l5glooloccvY"
      },
      "source": [
        "df.info()"
      ],
      "execution_count": null,
      "outputs": []
    },
    {
      "cell_type": "code",
      "metadata": {
        "id": "N2vxsOjBcblt"
      },
      "source": [
        "# para ver el Número de datos ausentes por variable\n",
        "df.isnull().sum().sort_values(ascending=False,)[:21]"
      ],
      "execution_count": null,
      "outputs": []
    },
    {
      "cell_type": "code",
      "metadata": {
        "id": "JfTXOnjbdSgv"
      },
      "source": [
        "# se observa la cantidad de datos de entrada en el id\n",
        "print('Se tienen', df['Unique Key'].count(), 'entradas.')"
      ],
      "execution_count": null,
      "outputs": []
    },
    {
      "cell_type": "code",
      "metadata": {
        "id": "tQ-af8dugVQQ"
      },
      "source": [
        "# Se Eliminan datos repetidos si los hay\n",
        "df = df.drop_duplicates(subset=['Unique Key'],  keep= False)"
      ],
      "execution_count": null,
      "outputs": []
    },
    {
      "cell_type": "code",
      "metadata": {
        "id": "Uk2Vc1S-gmpG"
      },
      "source": [
        "# confirmamos si habian datos repetidos y se eliminador\n",
        "print('Se tienen', df['Unique Key'].count(), 'entradas.')"
      ],
      "execution_count": null,
      "outputs": []
    },
    {
      "cell_type": "code",
      "metadata": {
        "id": "GMAFER61mpth"
      },
      "source": [
        "#Se elije la comuna Unique Key como Index \n",
        "df = df.set_index('Unique Key')"
      ],
      "execution_count": null,
      "outputs": []
    },
    {
      "cell_type": "code",
      "metadata": {
        "id": "SXV2RKVonkpg"
      },
      "source": [
        "#Se eliminan entradas con valores Nan\n",
        "df = df.dropna()"
      ],
      "execution_count": null,
      "outputs": []
    },
    {
      "cell_type": "code",
      "metadata": {
        "id": "Hl-QlmJXmynN"
      },
      "source": [
        "df.head(3)"
      ],
      "execution_count": null,
      "outputs": []
    },
    {
      "cell_type": "code",
      "metadata": {
        "id": "lZif8p09nsAv"
      },
      "source": [
        "# para ver el Número de datos ausentes por variable\n",
        "df.isnull().sum().sort_values(ascending=False,)[:21]"
      ],
      "execution_count": null,
      "outputs": []
    },
    {
      "cell_type": "code",
      "metadata": {
        "id": "iRoH0kdfn8iY"
      },
      "source": [
        "df.shape"
      ],
      "execution_count": null,
      "outputs": []
    },
    {
      "cell_type": "code",
      "metadata": {
        "id": "fdSuLed-eUHh"
      },
      "source": [
        "# para ver que tipo de variables tiene las columnas\n",
        "categori_columna_x=df.Status.unique()\n",
        "categori_columna_x"
      ],
      "execution_count": null,
      "outputs": []
    },
    {
      "cell_type": "code",
      "metadata": {
        "id": "gc5mHLn3efNm"
      },
      "source": [
        "#cuenta los status si esta abierto, cerrado, o pendiente\n",
        "status=df[\"Status\"].value_counts()[:6]\n",
        "print(status)"
      ],
      "execution_count": null,
      "outputs": []
    },
    {
      "cell_type": "code",
      "metadata": {
        "id": "jAlNQvhrer7j"
      },
      "source": [
        "df_status_pend=df[df[\"Status\"]==\"Pending\"]\n",
        "df_status_pend"
      ],
      "execution_count": null,
      "outputs": []
    },
    {
      "cell_type": "code",
      "metadata": {
        "id": "WBiJMitNhEHy"
      },
      "source": [
        "# ciudades donde a un estan pendientes\n",
        "df_status_pendiente=df_status_pend[\"City\"].value_counts()\n",
        "df_status_pend_IMPORTANTES=df_status_pendiente\n",
        "print(df_status_pend_IMPORTANTES)\n",
        "plt.figure(figsize=(5,3))\n",
        "plt.title('Indicador Tipo de queja mas frecuentes aun pendientes')\n",
        "plt.xlabel('numero de quejas')\n",
        "plt.ylabel('Citys')\n",
        "df_status_pend_IMPORTANTES.plot.barh()"
      ],
      "execution_count": null,
      "outputs": []
    },
    {
      "cell_type": "code",
      "metadata": {
        "id": "RVHspnCle3C1"
      },
      "source": [
        "df_status_open=df[df[\"Status\"]==\"Open\"]\n",
        "df_status_open.head(5)"
      ],
      "execution_count": null,
      "outputs": []
    },
    {
      "cell_type": "code",
      "metadata": {
        "id": "9BeWqNwgfvq0"
      },
      "source": [
        "df_status_pend.describe().T"
      ],
      "execution_count": null,
      "outputs": []
    },
    {
      "cell_type": "code",
      "metadata": {
        "id": "GMhVgI1Ifei9"
      },
      "source": [
        "df_status_open.describe().T"
      ],
      "execution_count": null,
      "outputs": []
    },
    {
      "cell_type": "code",
      "metadata": {
        "id": "OnD3MTdugDB_"
      },
      "source": [
        "# ciudades donde a un estan la mayoria de casos abiertos\n",
        "city_open=df_status_open[\"City\"].value_counts()\n",
        "city_open_IMPORTANTES=city_open[:6]\n",
        "print(city_open_IMPORTANTES)\n",
        "plt.figure(figsize=(5,3))\n",
        "plt.title('Indicador Tipo de queja mas frecuentes aun abiertos')\n",
        "plt.xlabel('numero de quejas')\n",
        "plt.ylabel('Citys')\n",
        "city_open_IMPORTANTES.plot.barh()"
      ],
      "execution_count": null,
      "outputs": []
    },
    {
      "cell_type": "code",
      "metadata": {
        "id": "lay1JBo-39fX"
      },
      "source": [
        "# todos los casos \n",
        "CITYS=df[\"City\"].value_counts()\n",
        "CITYS_IMPORTANTES=CITYS[:11]\n",
        "print(CITYS_IMPORTANTES)\n",
        "plt.figure(figsize=(12,4))\n",
        "plt.title('Ciudades con mas quejas  al departamento de Desarrollo de la Vivienda ')\n",
        "plt.xlabel('Cuenta los casos de uso')\n",
        "plt.ylabel('City')\n",
        "CITYS_IMPORTANTES.plot.barh()"
      ],
      "execution_count": null,
      "outputs": []
    },
    {
      "cell_type": "code",
      "metadata": {
        "id": "fmPPDBgJ6Yci"
      },
      "source": [
        "BARRIOS=df[\"Borough\"].value_counts()\n",
        "BARRIOS_IMPORTANTES=BARRIOS[:11]\n",
        "print(BARRIOS_IMPORTANTES)\n",
        "plt.figure(figsize=(12,4))\n",
        "plt.title('Barrios con mas quejas  al departamento de Desarrollo de la Vivienda ')\n",
        "plt.xlabel('cuenta los casos de uso')\n",
        "plt.ylabel('City')\n",
        "BARRIOS_IMPORTANTES.plot.barh()"
      ],
      "execution_count": null,
      "outputs": []
    },
    {
      "cell_type": "code",
      "metadata": {
        "id": "F649wnildRgC"
      },
      "source": [
        "Estrato=df[\"Street Name\"].value_counts()\n",
        "estrato_IMPORTANTES=Estrato[:6]\n",
        "print(estrato_IMPORTANTES)\n",
        "plt.figure(figsize=(5,3))\n",
        "plt.title('Indicador Tipo de queja mas frecuentes')\n",
        "plt.xlabel('numero de quejas')\n",
        "plt.ylabel('quejas')\n",
        "estrato_IMPORTANTES.plot.barh()"
      ],
      "execution_count": null,
      "outputs": []
    },
    {
      "cell_type": "code",
      "metadata": {
        "id": "KbswiY-k_0hv"
      },
      "source": [
        "QUEJAS=df[\"Complaint Type\"].value_counts()\n",
        "QUEJAS_IMPORTANTES=QUEJAS[:11]\n",
        "print(QUEJAS_IMPORTANTES)\n",
        "plt.figure(figsize=(12,4))\n",
        "plt.title('Quejas mas frecuentes al departamento de vivienda')\n",
        "plt.xlabel('cuenta los casos de uso')\n",
        "plt.ylabel('City')\n",
        "QUEJAS_IMPORTANTES.plot.barh()"
      ],
      "execution_count": null,
      "outputs": []
    },
    {
      "cell_type": "code",
      "metadata": {
        "id": "CaX1I3Kh9Jbb"
      },
      "source": [
        "Queja=df[df[\"Complaint Type\"]==\"HEAT/HOT WATER\"]\n",
        "Queja.head(5)"
      ],
      "execution_count": null,
      "outputs": []
    },
    {
      "cell_type": "code",
      "metadata": {
        "id": "LJKRFBYPJHFT"
      },
      "source": [
        "Queja=df[(df[\"Complaint Type\"]==\"HEAT/HOT WATER\")].value_counts()\n",
        "# df1_CA_serie1=Queja[\"Created Date\"].value_counts()\n",
        "# plt.figure(figsize=(15,8))\n",
        "# plt.title('Evolucion del tiempo de las  muertes para el estado Tx')\n",
        "# plt.xlabel('Linea temporal')\n",
        "# plt.ylabel('Numero de muertes')\n",
        "# df1_CA_serie1.plot()\n",
        "\n",
        "# QUEJAS=df[\"Complaint Type\"].value_counts()\n",
        "\n",
        "# Queja=df[df[\"Complaint Type\"]==\"HEAT/HOT WATER\"]\n",
        "# Queja.head(5)"
      ],
      "execution_count": null,
      "outputs": []
    },
    {
      "cell_type": "code",
      "metadata": {
        "id": "r8ulykwU3xGx"
      },
      "source": [
        ""
      ],
      "execution_count": null,
      "outputs": []
    },
    {
      "cell_type": "code",
      "metadata": {
        "id": "DED2H49SFtBL"
      },
      "source": [
        "# serie= pd.to_datetime(df[\"Created Date\"], format=\"%d/%m/%y\")  "
      ],
      "execution_count": null,
      "outputs": []
    },
    {
      "cell_type": "code",
      "metadata": {
        "id": "-IGVirDNz2hl"
      },
      "source": [
        "# df[(df.Created Date >= 1980) & (df.Created Date <= 1985)]\n",
        "t = pd.DataFrame() # creamos dataframe basio para agregar columnas\n",
        "t['Created Date']=pd.to_datetime(df['Created Date'], dayfirst=True) # cambie el formato de fecha\n",
        "t['Closed Date']=pd.to_datetime(df['Closed Date'], dayfirst=True)\n",
        "# filtered_t=Created Date.query(\"Created Date >= '2020-01-01' and Created Date <='2021-01-01'\")\n",
        "# print(filtered_t)"
      ],
      "execution_count": null,
      "outputs": []
    },
    {
      "cell_type": "code",
      "metadata": {
        "id": "sO_T_Cx6e9Xy"
      },
      "source": [
        "columns= ['Complaint Type',\t'Location Type',\t'Incident Zip',\t'Incident Address',\t'Street Name',\t'Address Type',\t'City',\t'Status',\t'Resolution Description',\t'Borough',\t'Latitude',\t'Longitude']\n",
        "for colum in columns:\n",
        "    t[colum] = df[colum]"
      ],
      "execution_count": null,
      "outputs": []
    },
    {
      "cell_type": "code",
      "metadata": {
        "id": "scx6OBQG8Z-Q"
      },
      "source": [
        "t.head()"
      ],
      "execution_count": null,
      "outputs": []
    },
    {
      "cell_type": "code",
      "metadata": {
        "id": "AJ6xL5iE4rTK"
      },
      "source": [
        "t.sort_values(by='Created Date', ascending=True).head(2) # para mostrar nuestros datos en forma ascendente"
      ],
      "execution_count": null,
      "outputs": []
    },
    {
      "cell_type": "code",
      "metadata": {
        "id": "J0u9oAKgBYDv"
      },
      "source": [
        "# # plt.figure(figsize=(12,8))  # (x,y)\n",
        "# plt.plot(t['City'],t['Incident Zip'])\n",
        "# plt.show()\n",
        "\n",
        "df_status_pend=t[t[\"Status\"]==\"Open\"]\n",
        "df_status_pend.head(4)"
      ],
      "execution_count": null,
      "outputs": []
    },
    {
      "cell_type": "code",
      "metadata": {
        "id": "BVm0yFvVPjZq"
      },
      "source": [
        "QUEJ=t[\"Complaint Type\"].unique() # muestra todas las categorias de Complaint Type\n",
        "categori=[QUEJ]\n",
        "categori"
      ],
      "execution_count": null,
      "outputs": []
    },
    {
      "cell_type": "code",
      "metadata": {
        "id": "NLOFD--e1wfE"
      },
      "source": [
        "Queja=t[(t[\"Complaint Type\"]==\"HEAT/HOT WATER\")]\n",
        "\n",
        "Queja_serie1=Queja[\"Created Date\"].value_counts()\n",
        "plt.figure(figsize=(15,6))\n",
        "plt.title('Evolucion del tiempo de HEAT/HOT WATER')\n",
        "plt.xlabel('Linea temporal')\n",
        "plt.ylabel('Numero de Quejas')\n",
        "Queja_serie1.plot()\n",
        "print('___________________________________________________________________')\n",
        "Queja=t[(t[\"Complaint Type\"]==\"WATER LEAK\")]\n",
        "\n",
        "df1_CA_serie1=Queja[\"Created Date\"].value_counts()\n",
        "plt.figure(figsize=(15,6))\n",
        "plt.title('Evolucion del tiempo de WATER LEAK')\n",
        "plt.xlabel('Linea temporal')\n",
        "plt.ylabel('Numero de Quejas')\n",
        "df1_CA_serie1.plot()\n",
        "print('___________________________________________________________________')\n",
        "Queja=t[(t[\"Complaint Type\"]==\"ELECTRIC\")]\n",
        "\n",
        "df1_CA_serie1=Queja[\"Created Date\"].value_counts()\n",
        "plt.figure(figsize=(15,6))\n",
        "plt.title('Evolucion del tiempo de ELECTRIC')\n",
        "plt.xlabel('Linea temporal')\n",
        "plt.ylabel('Numero de Quejas')\n",
        "df1_CA_serie1.plot()\n",
        "print('___________________________________________________________________')\n",
        "Queja=t[(t[\"Complaint Type\"]==\"UNSANITARY CONDITION\")]\n",
        "\n",
        "df1_CA_serie1=Queja[\"Created Date\"].value_counts()\n",
        "plt.figure(figsize=(15,6))\n",
        "plt.title('Evolucion del tiempo de UNSANITARY CONDITION ')\n",
        "plt.xlabel('Linea temporal')\n",
        "plt.ylabel('Numero de Quejas')\n",
        "df1_CA_serie1.plot()\n",
        "print('___________________________________________________________________')\n",
        "Queja=t[(t[\"Complaint Type\"]==\"PAINT/PLASTER\")]\n",
        "\n",
        "df1_CA_serie1=Queja[\"Created Date\"].value_counts()\n",
        "plt.figure(figsize=(15,6))\n",
        "plt.title('Evolucion del tiempo de PAINT/PLASTER')\n",
        "plt.xlabel('Linea temporal')\n",
        "plt.ylabel('Numero de Quejas')\n",
        "df1_CA_serie1.plot()\n",
        "\n",
        "print('___________________________________________________________________')\n",
        "Queja=t[(t[\"Complaint Type\"]==\"APPLIANCE\")]\n",
        "\n",
        "df1_CA_serie1=Queja[\"Created Date\"].value_counts()\n",
        "plt.figure(figsize=(15,6))\n",
        "plt.title('Evolucion del tiempo de APPLIANCE ')\n",
        "plt.xlabel('Linea temporal')\n",
        "plt.ylabel('Numero de Quejas')\n",
        "df1_CA_serie1.plot()\n",
        "print('___________________________________________________________________')\n",
        "Queja=t[(t[\"Complaint Type\"]==\"SAFETY\")]\n",
        "\n",
        "df1_CA_serie1=Queja[\"Created Date\"].value_counts()\n",
        "plt.figure(figsize=(15,6))\n",
        "plt.title('Evolucion del tiempo de SAFETY ')\n",
        "plt.xlabel('Linea temporal')\n",
        "plt.ylabel('Numero de Quejas')\n",
        "df1_CA_serie1.plot()\n",
        "print('___________________________________________________________________')\n",
        "Queja=t[(t[\"Complaint Type\"]==\"FLOORING/STAIRS\")]\n",
        "\n",
        "df1_CA_serie1=Queja[\"Created Date\"].value_counts()\n",
        "plt.figure(figsize=(15,6))\n",
        "plt.title('Evolucion del tiempo de FLOORING/STAIRS ')\n",
        "plt.xlabel('Linea temporal')\n",
        "plt.ylabel('Numero de Quejas')\n",
        "df1_CA_serie1.plot()\n",
        "print('___________________________________________________________________')\n",
        "Queja=t[(t[\"Complaint Type\"]==\"DOOR/WINDOW\")]\n",
        "\n",
        "df1_CA_serie1=Queja[\"Created Date\"].value_counts()\n",
        "plt.figure(figsize=(15,6))\n",
        "plt.title('Evolucion del tiempo de DOOR/WINDOW ')\n",
        "plt.xlabel('Linea temporal')\n",
        "plt.ylabel('Numero de Quejas')\n",
        "df1_CA_serie1.plot()\n",
        "print('___________________________________________________________________')\n",
        "Queja=t[(t[\"Complaint Type\"]==\"PLUMBING\")]\n",
        "\n",
        "df1_CA_serie1=Queja[\"Created Date\"].value_counts()\n",
        "plt.figure(figsize=(15,6))\n",
        "plt.title('Evolucion del tiempo de PLUMBING ')\n",
        "plt.xlabel('Linea temporal')\n",
        "plt.ylabel('Numero de Quejas')\n",
        "df1_CA_serie1.plot()\n",
        "print('___________________________________________________________________')\n",
        "Queja=t[(t[\"Complaint Type\"]==\"GENERAL\")]\n",
        "\n",
        "df1_CA_serie1=Queja[\"Created Date\"].value_counts()\n",
        "plt.figure(figsize=(15,6))\n",
        "plt.title('Evolucion del tiempo de GENERAL ')\n",
        "plt.xlabel('Linea temporal')\n",
        "plt.ylabel('Numero de Quejas')\n",
        "df1_CA_serie1.plot()\n",
        "print('___________________________________________________________________')\n",
        "Queja=t[(t[\"Complaint Type\"]==\"OUTSIDE BUILDING\")]\n",
        "\n",
        "df1_CA_serie1=Queja[\"Created Date\"].value_counts()\n",
        "plt.figure(figsize=(15,6))\n",
        "plt.title('Evolucion del tiempo de OUTSIDE BUILDING ')\n",
        "plt.xlabel('Linea temporal')\n",
        "plt.ylabel('Numero de Quejas')\n",
        "df1_CA_serie1.plot()\n",
        "print('___________________________________________________________________')\n",
        "Queja=t[(t[\"Complaint Type\"]==\"ELEVATOR\")]\n",
        "\n",
        "df1_CA_serie1=Queja[\"Created Date\"].value_counts()\n",
        "plt.figure(figsize=(15,6))\n",
        "plt.title('Evolucion del tiempo de ELEVATOR ')\n",
        "plt.xlabel('Linea temporal')\n",
        "plt.ylabel('Numero de Quejas')\n",
        "df1_CA_serie1.plot()"
      ],
      "execution_count": null,
      "outputs": []
    },
    {
      "cell_type": "code",
      "metadata": {
        "id": "FWOR3bSwSz5J"
      },
      "source": [
        "print('___________________________________________________________________')\n",
        "Queja=t[(t[\"Complaint Type\"]==\"HEATING\")]\n",
        "\n",
        "df1_CA_serie1=Queja[\"Created Date\"].value_counts()\n",
        "plt.figure(figsize=(15,6))\n",
        "plt.title('Evolucion del tiempo de HEATING ')\n",
        "plt.xlabel('Linea temporal')\n",
        "plt.ylabel('Numero de Quejas')\n",
        "df1_CA_serie1.plot()\n",
        "print('___________________________________________________________________')\n",
        "Queja=t[(t[\"Complaint Type\"]==\"NONCONST\")]\n",
        "\n",
        "df1_CA_serie1=Queja[\"Created Date\"].value_counts()\n",
        "plt.figure(figsize=(15,6))\n",
        "plt.title('Evolucion del tiempo de NONCONST ')\n",
        "plt.xlabel('Linea temporal')\n",
        "plt.ylabel('Numero de Quejas')\n",
        "df1_CA_serie1.plot()\n",
        "print('___________________________________________________________________')\n",
        "Queja=t[(t[\"Complaint Type\"]==\"GENERAL CONSTRUCTION\")]\n",
        "\n",
        "df1_CA_serie1=Queja[\"Created Date\"].value_counts()\n",
        "plt.figure(figsize=(15,6))\n",
        "plt.title('Evolucion del tiempo de GENERAL CONSTRUCTION')\n",
        "plt.xlabel('Linea temporal')\n",
        "plt.ylabel('Numero de Quejas')\n",
        "df1_CA_serie1.plot()\n",
        "\n",
        "print('___________________________________________________________________')\n",
        "Queja=t[(t[\"Complaint Type\"]==\"PAINT\")]\n",
        "\n",
        "df1_CA_serie1=Queja[\"Created Date\"].value_counts()\n",
        "plt.figure(figsize=(15,6))\n",
        "plt.title('Evolucion del tiempo de PAINT ')\n",
        "plt.xlabel('Linea temporal')\n",
        "plt.ylabel('Numero de Quejas')\n",
        "df1_CA_serie1.plot()\n",
        "print('___________________________________________________________________')\n",
        "Queja=t[(t[\"Complaint Type\"]==\"PLASTER\")]\n",
        "\n",
        "df1_CA_serie1=Queja[\"Created Date\"].value_counts()\n",
        "plt.figure(figsize=(15,6))\n",
        "plt.title('Evolucion del tiempo de PLASTER ')\n",
        "plt.xlabel('Linea temporal')\n",
        "plt.ylabel('Numero de Quejas')\n",
        "df1_CA_serie1.plot()\n",
        "print('___________________________________________________________________')\n",
        "Queja=t[(t[\"Complaint Type\"]==\"CONSTRUCTION\")]\n",
        "\n",
        "df1_CA_serie1=Queja[\"Created Date\"].value_counts()\n",
        "plt.figure(figsize=(15,6))\n",
        "plt.title('Evolucion del tiempo de CONSTRUCTION ')\n",
        "plt.xlabel('Linea temporal')\n",
        "plt.ylabel('Numero de Quejas')\n",
        "df1_CA_serie1.plot()\n",
        "print('___________________________________________________________________')\n",
        "Queja=t[(t[\"Complaint Type\"]==\"STRUCTURAL\")]\n",
        "\n",
        "df1_CA_serie1=Queja[\"Created Date\"].value_counts()\n",
        "plt.figure(figsize=(15,6))\n",
        "plt.title('Evolucion del tiempo de STRUCTURAL ')\n",
        "plt.xlabel('Linea temporal')\n",
        "plt.ylabel('Numero de Quejas')\n",
        "df1_CA_serie1.plot()\n",
        "print('___________________________________________________________________')\n",
        "Queja=t[(t[\"Complaint Type\"]==\"AGENCY\")]\n",
        "\n",
        "df1_CA_serie1=Queja[\"Created Date\"].value_counts()\n",
        "plt.figure(figsize=(15,6))\n",
        "plt.title('Evolucion del tiempo de AGENCY ')\n",
        "plt.xlabel('Linea temporal')\n",
        "plt.ylabel('Numero de Quejas')\n",
        "df1_CA_serie1.plot()\n",
        "print('___________________________________________________________________')\n",
        "Queja=t[(t[\"Complaint Type\"]==\"VACANT APARTMENT\")]\n",
        "\n",
        "df1_CA_serie1=Queja[\"Created Date\"].value_counts()\n",
        "plt.figure(figsize=(15,6))\n",
        "plt.title('Evolucion del tiempo de VACANT APARTMENT ')\n",
        "plt.xlabel('Linea temporal')\n",
        "plt.ylabel('Numero de Quejas')\n",
        "df1_CA_serie1.plot()"
      ],
      "execution_count": null,
      "outputs": []
    },
    {
      "cell_type": "code",
      "metadata": {
        "id": "t5Xgt3PiFi_w"
      },
      "source": [
        "filtered_t = (t['Created Date'] > '2060-01-01') & (t['Created Date'] <= '2021-02-05')\n",
        "# filtered_t=t.loc[mask]\n",
        "print(filtered_t)\n",
        "\n",
        "df1_CA_serie1=Queja[filtered_t].value_counts()\n",
        "plt.figure(figsize=(15,8))\n",
        "plt.title('Evolucion del tiempo de las  muertes para el estado Tx')\n",
        "plt.xlabel('Linea temporal')\n",
        "plt.ylabel('Numero de muertes')\n",
        "df1_CA_serie1.plot()"
      ],
      "execution_count": null,
      "outputs": []
    },
    {
      "cell_type": "code",
      "metadata": {
        "id": "rdWIEOH4j-oi"
      },
      "source": [
        "# Comprobación de la edad en función del género\n",
        "# aqui filtraremos por la columna Complaint Type= HEAT/HOT WATER y luego miraremos la edad, genero y state\n",
        "placed = df[df[\"Complaint Type\"]=='HEAT/HOT WATER'][[\"City\",\"Status\"]]\n",
        "# graficaremos el age vs gender\n",
        "sns.catplot(y=\"City\", x=\"Status\", kind=\"swarm\", palette=\"dark\", data=placed)"
      ],
      "execution_count": null,
      "outputs": []
    },
    {
      "cell_type": "code",
      "metadata": {
        "id": "rdQVIHbCuWOd"
      },
      "source": [
        "# para transformar a variables numericas\n",
        "categori_city=t.City.unique() # muestra todas las categorias de la ciudad\n",
        "\n",
        "from sklearn.preprocessing import OrdinalEncoder\n",
        "\n",
        "# Creamos el codificador indicandole el orden de la variables\n",
        "encoder = OrdinalEncoder(categories=[categori_city])\n",
        "\n",
        "# Ajustamos el codificador con la variable education y la transformamos\n",
        "encoder.fit(t[[\"City\"]])\n",
        "# newdf[\"city-encoded\"] = encoder.transform(newdf[[\"city\"]])\n",
        "t.city=encoder.transform(t[[\"City\"]])"
      ],
      "execution_count": null,
      "outputs": []
    },
    {
      "cell_type": "code",
      "metadata": {
        "id": "gSr1oZyEr6_E"
      },
      "source": [
        "# para ver el grado de correlación entre las variables disponibles.\n",
        "def tidy_corr_matrix(corr_mat):\n",
        "    '''\n",
        "    Función para convertir una matrix de correlación de pandas en formato tidy\n",
        "    '''\n",
        "    corr_mat = corr_mat.stack().reset_index()\n",
        "    corr_mat.columns = ['variable_1','variable_2','r']\n",
        "    corr_mat = corr_mat.loc[corr_mat['variable_1'] != corr_mat['variable_2'], :]\n",
        "    corr_mat['abs_r'] = np.abs(corr_mat['r'])\n",
        "    corr_mat = corr_mat.sort_values('abs_r', ascending=False)\n",
        "    \n",
        "    return(corr_mat)\n",
        "\n",
        "\n",
        "\n",
        "corr_matrix = dfA.select_dtypes(include=['float64', 'int']).corr(method='pearson')\n",
        "tidy_corr_matrix(corr_matrix).head(10)"
      ],
      "execution_count": null,
      "outputs": []
    },
    {
      "cell_type": "code",
      "metadata": {
        "id": "YiPUEfBil7uv"
      },
      "source": [
        "QUEJAS=df[\"Complaint Type\"].value_counts()"
      ],
      "execution_count": null,
      "outputs": []
    },
    {
      "cell_type": "code",
      "metadata": {
        "id": "23lzv4dOCA6t"
      },
      "source": [
        "# filtered_t=t.query(\"Created Date >= '2020-01-01 00:00:00' and Created Date <='2021-01-01 00:00:00'\")\n",
        "# print(filtered_t)\n",
        "\n",
        "# filtered_t=t.query(\"Joined_date >= '2019-06-1' and Joined_date <='2020-02-05'\")\n",
        "# print(filtered_t)\n",
        "\n",
        "mask = (t['Created Date'] > '2019-06-1') & (t['Created Date'] <= '2020-02-05')\n",
        "filtered_t=df.loc[mask]\n",
        "print(filtered_t)"
      ],
      "execution_count": null,
      "outputs": []
    },
    {
      "cell_type": "code",
      "metadata": {
        "id": "ma1yYcyDA8gB"
      },
      "source": [
        "# me agrupara por city y me dara una descripcion del tipo de queja\n",
        "data_por_city=df.groupby(by = 'City')['Complaint Type'].sum() # mean(), max(), count(), describe()\n",
        "data_por_city"
      ],
      "execution_count": null,
      "outputs": []
    },
    {
      "cell_type": "code",
      "metadata": {
        "id": "klb7gkiiCJuy"
      },
      "source": [
        "# esto nos agrupa por estados y nos da una descripcion de la edad de los policias fallecidos\n",
        "data_por_area=df.groupby(by = 'Complaint Type')['City'].value_counts() # mean(), max(), count(), describe()\n",
        "data_por_area\n",
        "# value_counts()\n",
        "# df[\"Complaint Type\"].value_counts()"
      ],
      "execution_count": null,
      "outputs": []
    },
    {
      "cell_type": "code",
      "metadata": {
        "id": "MD6dDTXL96ca"
      },
      "source": [
        "M_inueble=df[\"municipio_inmueble\"].value_counts()[:30]\n",
        "print(M_inueble)"
      ],
      "execution_count": null,
      "outputs": []
    },
    {
      "cell_type": "code",
      "metadata": {
        "id": "qVxQImY27W3Q"
      },
      "source": [
        "top_airlines = df.query('\"City\" == \"BRONX\"')\\\n",
        "    .groupby('Borough').City.sum()\\\n",
        "    .nlargest(5)\n",
        "top_airlines"
      ],
      "execution_count": null,
      "outputs": []
    }
  ]
}