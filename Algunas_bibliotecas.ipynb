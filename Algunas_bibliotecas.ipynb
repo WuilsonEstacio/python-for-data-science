{
  "nbformat": 4,
  "nbformat_minor": 0,
  "metadata": {
    "colab": {
      "name": "Algunas bibliotecas.ipynb",
      "provenance": [],
      "collapsed_sections": [],
      "mount_file_id": "1DI6ZGxqCkRK_JL4aLB8wg-GIt3XvhIex",
      "authorship_tag": "ABX9TyNIntTkLoyH39nIjjoKB4zK",
      "include_colab_link": true
    },
    "kernelspec": {
      "name": "python3",
      "display_name": "Python 3"
    }
  },
  "cells": [
    {
      "cell_type": "markdown",
      "metadata": {
        "id": "view-in-github",
        "colab_type": "text"
      },
      "source": [
        "<a href=\"https://colab.research.google.com/github/WuilsonEstacio/python-for-data-science/blob/main/Algunas_bibliotecas.ipynb\" target=\"_parent\"><img src=\"https://colab.research.google.com/assets/colab-badge.svg\" alt=\"Open In Colab\"/></a>"
      ]
    },
    {
      "cell_type": "code",
      "metadata": {
        "id": "PzpE-ij9oSFi"
      },
      "source": [
        "import requests\n",
        "from bs4 import BeautifulSoup\n",
        "import csv\n",
        "from datetime import datetime"
      ],
      "execution_count": null,
      "outputs": []
    },
    {
      "cell_type": "code",
      "metadata": {
        "id": "nB_GcAhCoXMZ"
      },
      "source": [
        "import numpy as np\n",
        "import pandas as pd\n",
        "import seaborn as sb\n",
        "import matplotlib.pyplot as plt\n",
        "%matplotlib inline\n",
        "plt.rcParams['figure.figsize'] = (16, 9)\n",
        "plt.style.use('ggplot')\n",
        "from sklearn import tree\n",
        "from sklearn.metrics import accuracy_score\n",
        "from sklearn.model_selection import KFold\n",
        "from sklearn.model_selection import cross_val_score\n",
        "from IPython.display import Image as PImage\n",
        "from subprocess import check_call\n",
        "from PIL import Image, ImageDraw, ImageFont\n",
        "from sklearn.cluster import KMeans\n",
        "from sklearn.neighbors import KNeighborsRegressor\n",
        "from sklearn import svm\n",
        "import tensorflow as tf\n",
        "from sklearn.tree import DecisionTreeClassifier\n",
        "from sklearn import tree\n",
        "from sklearn.linear_model import LinearRegression\n",
        "from sklearn.linear_model import LogisticRegression # clasificador linear\n",
        "from sklearn.datasets import make_classification\n",
        "from sklearn import datasets\n",
        "\n",
        "from sklearn.decomposition import KernelPCA\n",
        "from sklearn.linear_model import Lasso\n",
        "from sklearn.linear_model import Ridge\n",
        "\n",
        "from sklearn.decomposition import PCA\n",
        "from sklearn.decomposition import IncrementalPCA\n",
        " \n",
        "\n",
        "# utilidades para preparar datos antes de enviar a entrenamiento \n",
        "from sklearn.preprocessing import StandardScaler # StandardScaler sive para normalizar nuestros datos osea  para que esten en la misma escala\n",
        "from sklearn.model_selection import train_test_split # para poder partir nuestros datos\n",
        "from sklearn.linear_model import (RANSACRegressor, HuberRegressor)\n",
        "\n",
        "from sklearn.svm import SVR # para comparar el resultado con\n",
        "# con un modelo de maquina de soporte vectorial como el SVR  Suport Vector Regresor\n",
        "# maquina de soporte vectorial\n",
        "import statsmodels.api as sm\n",
        "import statsmodels.formula.api as smf\n",
        "\n",
        "from sklearn.metrics  import mean_squared_error # metrica para medir"
      ],
      "execution_count": null,
      "outputs": []
    },
    {
      "cell_type": "markdown",
      "metadata": {
        "id": "GN8bgSq1qWuU"
      },
      "source": [
        "<a href=https://scikit-learn.org/stable/index.html>Scikit </a> "
      ]
    },
    {
      "cell_type": "code",
      "metadata": {
        "id": "vfwr-v8mtqyD"
      },
      "source": [
        "# codigo para instalar paquetes usando pip\n",
        "import os\n",
        "# instalar   paquete o librerir\n",
        "paquete= input('Que paquete instalamos :')\n",
        "paquete = str(paquete)\n",
        "while True:\n",
        "    try:\n",
        "        codigo='pip install '+paquete\n",
        "        os.system(codigo)\n",
        "        print('Paquete instalado')\n",
        "    except:\n",
        "        print('Error al instalar paquete  :')\n",
        "    continuar=input('Quieres instalar otro :')\n",
        "    continuar=str(continuar)\n",
        "    if continuar =='S' or continuar =='s' or continuar=='si' or contunuar =='SI':\n",
        "        paquete=input('Que otro paquete instalamos :')\n",
        "        paquete=str(paquete)\n",
        "    else:\n",
        "        break\n",
        "print('Fin')"
      ],
      "execution_count": null,
      "outputs": []
    },
    {
      "cell_type": "markdown",
      "metadata": {
        "id": "-iwuIYeBAmRJ"
      },
      "source": [
        "# Codigo para instalar librerias en google colab por unica ves"
      ]
    },
    {
      "cell_type": "code",
      "metadata": {
        "colab": {
          "base_uri": "https://localhost:8080/",
          "height": 268
        },
        "id": "_MzVyFwQ83mZ",
        "outputId": "2dd52739-389a-4f21-c213-79d3736a213c"
      },
      "source": [
        "import os, sys\n",
        "from google.colab import drive\n",
        "# conectas tu drive  con google colab\n",
        "drive.mount('/content/gdrive')\n",
        "\n",
        "# deja esta linea asi\n",
        "nb_path='/content/Notebooks'\n",
        "#libs es la carpeta donde guardaremos las librerias\n",
        "os.symlink('/content/gdrive/MyDrive/Colab Notebooks/libs',nb_path)\n",
        "sys.path.insert(0,nb_path)\n",
        "# instalamos librerias\n",
        "!pip install -target=$nb_path fitter"
      ],
      "execution_count": null,
      "outputs": [
        {
          "output_type": "stream",
          "text": [
            "Drive already mounted at /content/gdrive; to attempt to forcibly remount, call drive.mount(\"/content/gdrive\", force_remount=True).\n"
          ],
          "name": "stdout"
        },
        {
          "output_type": "error",
          "ename": "FileExistsError",
          "evalue": "ignored",
          "traceback": [
            "\u001b[0;31m---------------------------------------------------------------------------\u001b[0m",
            "\u001b[0;31mFileExistsError\u001b[0m                           Traceback (most recent call last)",
            "\u001b[0;32m<ipython-input-26-21ddc6c482e4>\u001b[0m in \u001b[0;36m<module>\u001b[0;34m()\u001b[0m\n\u001b[1;32m      7\u001b[0m \u001b[0mnb_path\u001b[0m\u001b[0;34m=\u001b[0m\u001b[0;34m'/content/Notebooks'\u001b[0m\u001b[0;34m\u001b[0m\u001b[0;34m\u001b[0m\u001b[0m\n\u001b[1;32m      8\u001b[0m \u001b[0;31m#libs es la carpeta donde guardaremos las librerias\u001b[0m\u001b[0;34m\u001b[0m\u001b[0;34m\u001b[0m\u001b[0;34m\u001b[0m\u001b[0m\n\u001b[0;32m----> 9\u001b[0;31m \u001b[0mos\u001b[0m\u001b[0;34m.\u001b[0m\u001b[0msymlink\u001b[0m\u001b[0;34m(\u001b[0m\u001b[0;34m'/content/gdrive/MyDrive/Colab Notebooks/libs'\u001b[0m\u001b[0;34m,\u001b[0m\u001b[0mnb_path\u001b[0m\u001b[0;34m)\u001b[0m\u001b[0;34m\u001b[0m\u001b[0;34m\u001b[0m\u001b[0m\n\u001b[0m\u001b[1;32m     10\u001b[0m \u001b[0msys\u001b[0m\u001b[0;34m.\u001b[0m\u001b[0mpath\u001b[0m\u001b[0;34m.\u001b[0m\u001b[0minsert\u001b[0m\u001b[0;34m(\u001b[0m\u001b[0;36m0\u001b[0m\u001b[0;34m,\u001b[0m\u001b[0mnb_path\u001b[0m\u001b[0;34m)\u001b[0m\u001b[0;34m\u001b[0m\u001b[0;34m\u001b[0m\u001b[0m\n\u001b[1;32m     11\u001b[0m \u001b[0;31m# instalamos librerias\u001b[0m\u001b[0;34m\u001b[0m\u001b[0;34m\u001b[0m\u001b[0;34m\u001b[0m\u001b[0m\n",
            "\u001b[0;31mFileExistsError\u001b[0m: [Errno 17] File exists: '/content/gdrive/MyDrive/Colab Notebooks/libs' -> '/content/Notebooks'"
          ]
        }
      ]
    },
    {
      "cell_type": "markdown",
      "metadata": {
        "id": "JJOpPBUGA_KS"
      },
      "source": [
        "**ahora instalamos nuestras libreiras**"
      ]
    },
    {
      "cell_type": "code",
      "metadata": {
        "id": "Tiv0AkPICDdj",
        "colab": {
          "base_uri": "https://localhost:8080/"
        },
        "outputId": "74e83155-3ae9-4d56-ac18-fb2e7b7c30b2"
      },
      "source": [
        "\n",
        "# !git clone https://github.com/fastai/courses.git\n",
        "!git clone https://github.com/AprendizajeProfundo/Diplomado"
      ],
      "execution_count": null,
      "outputs": [
        {
          "output_type": "stream",
          "text": [
            "Cloning into 'Diplomado'...\n",
            "remote: Enumerating objects: 3156, done.\u001b[K\n",
            "remote: Counting objects: 100% (812/812), done.\u001b[K\n",
            "remote: Compressing objects: 100% (455/455), done.\u001b[K\n",
            "remote: Total 3156 (delta 434), reused 652 (delta 354), pack-reused 2344\u001b[K\n",
            "Receiving objects: 100% (3156/3156), 132.00 MiB | 31.43 MiB/s, done.\n",
            "Resolving deltas: 100% (1186/1186), done.\n",
            "Checking out files: 100% (541/541), done.\n"
          ],
          "name": "stdout"
        }
      ]
    }
  ]
}